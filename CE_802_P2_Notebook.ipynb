{
  "cells": [
    {
      "cell_type": "code",
      "execution_count": 3,
      "metadata": {
        "id": "wgTWGeTKKaoG"
      },
      "outputs": [],
      "source": [
        "import numpy as np\n",
        "import pandas as pd\n",
        "import matplotlib.pyplot as plt\n",
        "import seaborn as sns\n",
        "from sklearn import tree\n",
        "import graphviz\n",
        "from sklearn.model_selection import train_test_split,GridSearchCV\n",
        "from sklearn.ensemble import RandomForestClassifier\n",
        "from sklearn.neighbors import KNeighborsClassifier\n",
        "from sklearn.tree import DecisionTreeClassifier\n",
        "from sklearn import metrics\n",
        "from sklearn.metrics import accuracy_score,classification_report,confusion_matrix,plot_confusion_matrix\n",
        "from sklearn.preprocessing import StandardScaler, MinMaxScaler\n",
        "from sklearn import svm\n",
        "from sklearn.svm import SVC\n",
        "from sklearn.exceptions import ConvergenceWarning\n",
        "%matplotlib inline"
      ]
    },
    {
      "cell_type": "code",
      "execution_count": 4,
      "metadata": {
        "colab": {
          "base_uri": "https://localhost:8080/",
          "height": 206
        },
        "id": "zmHM-ww2KkDC",
        "outputId": "bd1fcfcc-2fba-4e59-ebaf-c1b0246d13b6"
      },
      "outputs": [
        {
          "output_type": "execute_result",
          "data": {
            "text/plain": [
              "     F1     F2    F3     F4     F5      F6    F7   F8     F9     F10   F11  \\\n",
              "0  11.7   4.02 -4.34   9.90  29.79   89.58  0.63   23  10.35  158.56 -7.88   \n",
              "1  11.7   4.20 -3.68  10.98  17.46  179.58  0.05   11   8.30  110.56 -3.10   \n",
              "2  37.7  25.80  3.60   0.48  12.24  407.58 -0.29  230   4.06  254.56  6.68   \n",
              "3   7.7   5.40  0.30   9.42  19.86  119.58  0.29   12   7.61   66.56 -1.84   \n",
              "4  15.7   5.58 -2.58  16.34  17.49  146.58 -0.64   25   9.86  106.56 -4.36   \n",
              "\n",
              "     F12  F13   F14    F15  Class  \n",
              "0   0.03    1  1.96    NaN  False  \n",
              "1   0.84    1  1.50    NaN  False  \n",
              "2  21.60   10  7.63    NaN   True  \n",
              "3   1.05    1  2.27  12.17   True  \n",
              "4   1.68    1  1.28    NaN  False  "
            ],
            "text/html": [
              "\n",
              "  <div id=\"df-ebe3b9a0-3c22-4e74-a275-ec85327429f4\">\n",
              "    <div class=\"colab-df-container\">\n",
              "      <div>\n",
              "<style scoped>\n",
              "    .dataframe tbody tr th:only-of-type {\n",
              "        vertical-align: middle;\n",
              "    }\n",
              "\n",
              "    .dataframe tbody tr th {\n",
              "        vertical-align: top;\n",
              "    }\n",
              "\n",
              "    .dataframe thead th {\n",
              "        text-align: right;\n",
              "    }\n",
              "</style>\n",
              "<table border=\"1\" class=\"dataframe\">\n",
              "  <thead>\n",
              "    <tr style=\"text-align: right;\">\n",
              "      <th></th>\n",
              "      <th>F1</th>\n",
              "      <th>F2</th>\n",
              "      <th>F3</th>\n",
              "      <th>F4</th>\n",
              "      <th>F5</th>\n",
              "      <th>F6</th>\n",
              "      <th>F7</th>\n",
              "      <th>F8</th>\n",
              "      <th>F9</th>\n",
              "      <th>F10</th>\n",
              "      <th>F11</th>\n",
              "      <th>F12</th>\n",
              "      <th>F13</th>\n",
              "      <th>F14</th>\n",
              "      <th>F15</th>\n",
              "      <th>Class</th>\n",
              "    </tr>\n",
              "  </thead>\n",
              "  <tbody>\n",
              "    <tr>\n",
              "      <th>0</th>\n",
              "      <td>11.7</td>\n",
              "      <td>4.02</td>\n",
              "      <td>-4.34</td>\n",
              "      <td>9.90</td>\n",
              "      <td>29.79</td>\n",
              "      <td>89.58</td>\n",
              "      <td>0.63</td>\n",
              "      <td>23</td>\n",
              "      <td>10.35</td>\n",
              "      <td>158.56</td>\n",
              "      <td>-7.88</td>\n",
              "      <td>0.03</td>\n",
              "      <td>1</td>\n",
              "      <td>1.96</td>\n",
              "      <td>NaN</td>\n",
              "      <td>False</td>\n",
              "    </tr>\n",
              "    <tr>\n",
              "      <th>1</th>\n",
              "      <td>11.7</td>\n",
              "      <td>4.20</td>\n",
              "      <td>-3.68</td>\n",
              "      <td>10.98</td>\n",
              "      <td>17.46</td>\n",
              "      <td>179.58</td>\n",
              "      <td>0.05</td>\n",
              "      <td>11</td>\n",
              "      <td>8.30</td>\n",
              "      <td>110.56</td>\n",
              "      <td>-3.10</td>\n",
              "      <td>0.84</td>\n",
              "      <td>1</td>\n",
              "      <td>1.50</td>\n",
              "      <td>NaN</td>\n",
              "      <td>False</td>\n",
              "    </tr>\n",
              "    <tr>\n",
              "      <th>2</th>\n",
              "      <td>37.7</td>\n",
              "      <td>25.80</td>\n",
              "      <td>3.60</td>\n",
              "      <td>0.48</td>\n",
              "      <td>12.24</td>\n",
              "      <td>407.58</td>\n",
              "      <td>-0.29</td>\n",
              "      <td>230</td>\n",
              "      <td>4.06</td>\n",
              "      <td>254.56</td>\n",
              "      <td>6.68</td>\n",
              "      <td>21.60</td>\n",
              "      <td>10</td>\n",
              "      <td>7.63</td>\n",
              "      <td>NaN</td>\n",
              "      <td>True</td>\n",
              "    </tr>\n",
              "    <tr>\n",
              "      <th>3</th>\n",
              "      <td>7.7</td>\n",
              "      <td>5.40</td>\n",
              "      <td>0.30</td>\n",
              "      <td>9.42</td>\n",
              "      <td>19.86</td>\n",
              "      <td>119.58</td>\n",
              "      <td>0.29</td>\n",
              "      <td>12</td>\n",
              "      <td>7.61</td>\n",
              "      <td>66.56</td>\n",
              "      <td>-1.84</td>\n",
              "      <td>1.05</td>\n",
              "      <td>1</td>\n",
              "      <td>2.27</td>\n",
              "      <td>12.17</td>\n",
              "      <td>True</td>\n",
              "    </tr>\n",
              "    <tr>\n",
              "      <th>4</th>\n",
              "      <td>15.7</td>\n",
              "      <td>5.58</td>\n",
              "      <td>-2.58</td>\n",
              "      <td>16.34</td>\n",
              "      <td>17.49</td>\n",
              "      <td>146.58</td>\n",
              "      <td>-0.64</td>\n",
              "      <td>25</td>\n",
              "      <td>9.86</td>\n",
              "      <td>106.56</td>\n",
              "      <td>-4.36</td>\n",
              "      <td>1.68</td>\n",
              "      <td>1</td>\n",
              "      <td>1.28</td>\n",
              "      <td>NaN</td>\n",
              "      <td>False</td>\n",
              "    </tr>\n",
              "  </tbody>\n",
              "</table>\n",
              "</div>\n",
              "      <button class=\"colab-df-convert\" onclick=\"convertToInteractive('df-ebe3b9a0-3c22-4e74-a275-ec85327429f4')\"\n",
              "              title=\"Convert this dataframe to an interactive table.\"\n",
              "              style=\"display:none;\">\n",
              "        \n",
              "  <svg xmlns=\"http://www.w3.org/2000/svg\" height=\"24px\"viewBox=\"0 0 24 24\"\n",
              "       width=\"24px\">\n",
              "    <path d=\"M0 0h24v24H0V0z\" fill=\"none\"/>\n",
              "    <path d=\"M18.56 5.44l.94 2.06.94-2.06 2.06-.94-2.06-.94-.94-2.06-.94 2.06-2.06.94zm-11 1L8.5 8.5l.94-2.06 2.06-.94-2.06-.94L8.5 2.5l-.94 2.06-2.06.94zm10 10l.94 2.06.94-2.06 2.06-.94-2.06-.94-.94-2.06-.94 2.06-2.06.94z\"/><path d=\"M17.41 7.96l-1.37-1.37c-.4-.4-.92-.59-1.43-.59-.52 0-1.04.2-1.43.59L10.3 9.45l-7.72 7.72c-.78.78-.78 2.05 0 2.83L4 21.41c.39.39.9.59 1.41.59.51 0 1.02-.2 1.41-.59l7.78-7.78 2.81-2.81c.8-.78.8-2.07 0-2.86zM5.41 20L4 18.59l7.72-7.72 1.47 1.35L5.41 20z\"/>\n",
              "  </svg>\n",
              "      </button>\n",
              "      \n",
              "  <style>\n",
              "    .colab-df-container {\n",
              "      display:flex;\n",
              "      flex-wrap:wrap;\n",
              "      gap: 12px;\n",
              "    }\n",
              "\n",
              "    .colab-df-convert {\n",
              "      background-color: #E8F0FE;\n",
              "      border: none;\n",
              "      border-radius: 50%;\n",
              "      cursor: pointer;\n",
              "      display: none;\n",
              "      fill: #1967D2;\n",
              "      height: 32px;\n",
              "      padding: 0 0 0 0;\n",
              "      width: 32px;\n",
              "    }\n",
              "\n",
              "    .colab-df-convert:hover {\n",
              "      background-color: #E2EBFA;\n",
              "      box-shadow: 0px 1px 2px rgba(60, 64, 67, 0.3), 0px 1px 3px 1px rgba(60, 64, 67, 0.15);\n",
              "      fill: #174EA6;\n",
              "    }\n",
              "\n",
              "    [theme=dark] .colab-df-convert {\n",
              "      background-color: #3B4455;\n",
              "      fill: #D2E3FC;\n",
              "    }\n",
              "\n",
              "    [theme=dark] .colab-df-convert:hover {\n",
              "      background-color: #434B5C;\n",
              "      box-shadow: 0px 1px 3px 1px rgba(0, 0, 0, 0.15);\n",
              "      filter: drop-shadow(0px 1px 2px rgba(0, 0, 0, 0.3));\n",
              "      fill: #FFFFFF;\n",
              "    }\n",
              "  </style>\n",
              "\n",
              "      <script>\n",
              "        const buttonEl =\n",
              "          document.querySelector('#df-ebe3b9a0-3c22-4e74-a275-ec85327429f4 button.colab-df-convert');\n",
              "        buttonEl.style.display =\n",
              "          google.colab.kernel.accessAllowed ? 'block' : 'none';\n",
              "\n",
              "        async function convertToInteractive(key) {\n",
              "          const element = document.querySelector('#df-ebe3b9a0-3c22-4e74-a275-ec85327429f4');\n",
              "          const dataTable =\n",
              "            await google.colab.kernel.invokeFunction('convertToInteractive',\n",
              "                                                     [key], {});\n",
              "          if (!dataTable) return;\n",
              "\n",
              "          const docLinkHtml = 'Like what you see? Visit the ' +\n",
              "            '<a target=\"_blank\" href=https://colab.research.google.com/notebooks/data_table.ipynb>data table notebook</a>'\n",
              "            + ' to learn more about interactive tables.';\n",
              "          element.innerHTML = '';\n",
              "          dataTable['output_type'] = 'display_data';\n",
              "          await google.colab.output.renderOutput(dataTable, element);\n",
              "          const docLink = document.createElement('div');\n",
              "          docLink.innerHTML = docLinkHtml;\n",
              "          element.appendChild(docLink);\n",
              "        }\n",
              "      </script>\n",
              "    </div>\n",
              "  </div>\n",
              "  "
            ]
          },
          "metadata": {},
          "execution_count": 4
        }
      ],
      "source": [
        "df= pd.read_csv('/content/CE802_P2_Data.csv')\n",
        "df.head()"
      ]
    },
    {
      "cell_type": "code",
      "execution_count": 5,
      "metadata": {
        "colab": {
          "base_uri": "https://localhost:8080/",
          "height": 206
        },
        "id": "YPFzBinGLh4c",
        "outputId": "2ca8467e-d799-4a86-d574-e3ada1c899ce"
      },
      "outputs": [
        {
          "output_type": "execute_result",
          "data": {
            "text/plain": [
              "     F1     F2     F3    F4     F5      F6    F7   F8     F9     F10   F11  \\\n",
              "0  37.7  33.15   9.26  3.88   5.91  -12.42 -0.77  165   3.32  334.56  4.42   \n",
              "1  17.7  24.30   6.58  3.40  10.47  -57.42 -0.77   20   3.22  224.56  0.28   \n",
              "2  37.7  17.55  10.16 -1.94   6.90   92.58 -0.84  215   4.71   94.56  6.98   \n",
              "3  11.7   2.61  -8.28  8.96  23.22  161.58  1.69    6   8.54   64.56 -6.52   \n",
              "4   7.7   5.55   1.52  8.50  21.66   95.58  2.41   22  10.74  128.56 -3.84   \n",
              "\n",
              "     F12  F13    F14    F15  Class  \n",
              "0  18.75   10   7.78    NaN    NaN  \n",
              "1  15.30   10   8.13    NaN    NaN  \n",
              "2  17.70   10  10.08  13.27    NaN  \n",
              "3   1.32    1   1.80  11.73    NaN  \n",
              "4   2.76    1   2.22  12.31    NaN  "
            ],
            "text/html": [
              "\n",
              "  <div id=\"df-2d43d7d6-3cc0-496b-b67d-1ef8d078326f\">\n",
              "    <div class=\"colab-df-container\">\n",
              "      <div>\n",
              "<style scoped>\n",
              "    .dataframe tbody tr th:only-of-type {\n",
              "        vertical-align: middle;\n",
              "    }\n",
              "\n",
              "    .dataframe tbody tr th {\n",
              "        vertical-align: top;\n",
              "    }\n",
              "\n",
              "    .dataframe thead th {\n",
              "        text-align: right;\n",
              "    }\n",
              "</style>\n",
              "<table border=\"1\" class=\"dataframe\">\n",
              "  <thead>\n",
              "    <tr style=\"text-align: right;\">\n",
              "      <th></th>\n",
              "      <th>F1</th>\n",
              "      <th>F2</th>\n",
              "      <th>F3</th>\n",
              "      <th>F4</th>\n",
              "      <th>F5</th>\n",
              "      <th>F6</th>\n",
              "      <th>F7</th>\n",
              "      <th>F8</th>\n",
              "      <th>F9</th>\n",
              "      <th>F10</th>\n",
              "      <th>F11</th>\n",
              "      <th>F12</th>\n",
              "      <th>F13</th>\n",
              "      <th>F14</th>\n",
              "      <th>F15</th>\n",
              "      <th>Class</th>\n",
              "    </tr>\n",
              "  </thead>\n",
              "  <tbody>\n",
              "    <tr>\n",
              "      <th>0</th>\n",
              "      <td>37.7</td>\n",
              "      <td>33.15</td>\n",
              "      <td>9.26</td>\n",
              "      <td>3.88</td>\n",
              "      <td>5.91</td>\n",
              "      <td>-12.42</td>\n",
              "      <td>-0.77</td>\n",
              "      <td>165</td>\n",
              "      <td>3.32</td>\n",
              "      <td>334.56</td>\n",
              "      <td>4.42</td>\n",
              "      <td>18.75</td>\n",
              "      <td>10</td>\n",
              "      <td>7.78</td>\n",
              "      <td>NaN</td>\n",
              "      <td>NaN</td>\n",
              "    </tr>\n",
              "    <tr>\n",
              "      <th>1</th>\n",
              "      <td>17.7</td>\n",
              "      <td>24.30</td>\n",
              "      <td>6.58</td>\n",
              "      <td>3.40</td>\n",
              "      <td>10.47</td>\n",
              "      <td>-57.42</td>\n",
              "      <td>-0.77</td>\n",
              "      <td>20</td>\n",
              "      <td>3.22</td>\n",
              "      <td>224.56</td>\n",
              "      <td>0.28</td>\n",
              "      <td>15.30</td>\n",
              "      <td>10</td>\n",
              "      <td>8.13</td>\n",
              "      <td>NaN</td>\n",
              "      <td>NaN</td>\n",
              "    </tr>\n",
              "    <tr>\n",
              "      <th>2</th>\n",
              "      <td>37.7</td>\n",
              "      <td>17.55</td>\n",
              "      <td>10.16</td>\n",
              "      <td>-1.94</td>\n",
              "      <td>6.90</td>\n",
              "      <td>92.58</td>\n",
              "      <td>-0.84</td>\n",
              "      <td>215</td>\n",
              "      <td>4.71</td>\n",
              "      <td>94.56</td>\n",
              "      <td>6.98</td>\n",
              "      <td>17.70</td>\n",
              "      <td>10</td>\n",
              "      <td>10.08</td>\n",
              "      <td>13.27</td>\n",
              "      <td>NaN</td>\n",
              "    </tr>\n",
              "    <tr>\n",
              "      <th>3</th>\n",
              "      <td>11.7</td>\n",
              "      <td>2.61</td>\n",
              "      <td>-8.28</td>\n",
              "      <td>8.96</td>\n",
              "      <td>23.22</td>\n",
              "      <td>161.58</td>\n",
              "      <td>1.69</td>\n",
              "      <td>6</td>\n",
              "      <td>8.54</td>\n",
              "      <td>64.56</td>\n",
              "      <td>-6.52</td>\n",
              "      <td>1.32</td>\n",
              "      <td>1</td>\n",
              "      <td>1.80</td>\n",
              "      <td>11.73</td>\n",
              "      <td>NaN</td>\n",
              "    </tr>\n",
              "    <tr>\n",
              "      <th>4</th>\n",
              "      <td>7.7</td>\n",
              "      <td>5.55</td>\n",
              "      <td>1.52</td>\n",
              "      <td>8.50</td>\n",
              "      <td>21.66</td>\n",
              "      <td>95.58</td>\n",
              "      <td>2.41</td>\n",
              "      <td>22</td>\n",
              "      <td>10.74</td>\n",
              "      <td>128.56</td>\n",
              "      <td>-3.84</td>\n",
              "      <td>2.76</td>\n",
              "      <td>1</td>\n",
              "      <td>2.22</td>\n",
              "      <td>12.31</td>\n",
              "      <td>NaN</td>\n",
              "    </tr>\n",
              "  </tbody>\n",
              "</table>\n",
              "</div>\n",
              "      <button class=\"colab-df-convert\" onclick=\"convertToInteractive('df-2d43d7d6-3cc0-496b-b67d-1ef8d078326f')\"\n",
              "              title=\"Convert this dataframe to an interactive table.\"\n",
              "              style=\"display:none;\">\n",
              "        \n",
              "  <svg xmlns=\"http://www.w3.org/2000/svg\" height=\"24px\"viewBox=\"0 0 24 24\"\n",
              "       width=\"24px\">\n",
              "    <path d=\"M0 0h24v24H0V0z\" fill=\"none\"/>\n",
              "    <path d=\"M18.56 5.44l.94 2.06.94-2.06 2.06-.94-2.06-.94-.94-2.06-.94 2.06-2.06.94zm-11 1L8.5 8.5l.94-2.06 2.06-.94-2.06-.94L8.5 2.5l-.94 2.06-2.06.94zm10 10l.94 2.06.94-2.06 2.06-.94-2.06-.94-.94-2.06-.94 2.06-2.06.94z\"/><path d=\"M17.41 7.96l-1.37-1.37c-.4-.4-.92-.59-1.43-.59-.52 0-1.04.2-1.43.59L10.3 9.45l-7.72 7.72c-.78.78-.78 2.05 0 2.83L4 21.41c.39.39.9.59 1.41.59.51 0 1.02-.2 1.41-.59l7.78-7.78 2.81-2.81c.8-.78.8-2.07 0-2.86zM5.41 20L4 18.59l7.72-7.72 1.47 1.35L5.41 20z\"/>\n",
              "  </svg>\n",
              "      </button>\n",
              "      \n",
              "  <style>\n",
              "    .colab-df-container {\n",
              "      display:flex;\n",
              "      flex-wrap:wrap;\n",
              "      gap: 12px;\n",
              "    }\n",
              "\n",
              "    .colab-df-convert {\n",
              "      background-color: #E8F0FE;\n",
              "      border: none;\n",
              "      border-radius: 50%;\n",
              "      cursor: pointer;\n",
              "      display: none;\n",
              "      fill: #1967D2;\n",
              "      height: 32px;\n",
              "      padding: 0 0 0 0;\n",
              "      width: 32px;\n",
              "    }\n",
              "\n",
              "    .colab-df-convert:hover {\n",
              "      background-color: #E2EBFA;\n",
              "      box-shadow: 0px 1px 2px rgba(60, 64, 67, 0.3), 0px 1px 3px 1px rgba(60, 64, 67, 0.15);\n",
              "      fill: #174EA6;\n",
              "    }\n",
              "\n",
              "    [theme=dark] .colab-df-convert {\n",
              "      background-color: #3B4455;\n",
              "      fill: #D2E3FC;\n",
              "    }\n",
              "\n",
              "    [theme=dark] .colab-df-convert:hover {\n",
              "      background-color: #434B5C;\n",
              "      box-shadow: 0px 1px 3px 1px rgba(0, 0, 0, 0.15);\n",
              "      filter: drop-shadow(0px 1px 2px rgba(0, 0, 0, 0.3));\n",
              "      fill: #FFFFFF;\n",
              "    }\n",
              "  </style>\n",
              "\n",
              "      <script>\n",
              "        const buttonEl =\n",
              "          document.querySelector('#df-2d43d7d6-3cc0-496b-b67d-1ef8d078326f button.colab-df-convert');\n",
              "        buttonEl.style.display =\n",
              "          google.colab.kernel.accessAllowed ? 'block' : 'none';\n",
              "\n",
              "        async function convertToInteractive(key) {\n",
              "          const element = document.querySelector('#df-2d43d7d6-3cc0-496b-b67d-1ef8d078326f');\n",
              "          const dataTable =\n",
              "            await google.colab.kernel.invokeFunction('convertToInteractive',\n",
              "                                                     [key], {});\n",
              "          if (!dataTable) return;\n",
              "\n",
              "          const docLinkHtml = 'Like what you see? Visit the ' +\n",
              "            '<a target=\"_blank\" href=https://colab.research.google.com/notebooks/data_table.ipynb>data table notebook</a>'\n",
              "            + ' to learn more about interactive tables.';\n",
              "          element.innerHTML = '';\n",
              "          dataTable['output_type'] = 'display_data';\n",
              "          await google.colab.output.renderOutput(dataTable, element);\n",
              "          const docLink = document.createElement('div');\n",
              "          docLink.innerHTML = docLinkHtml;\n",
              "          element.appendChild(docLink);\n",
              "        }\n",
              "      </script>\n",
              "    </div>\n",
              "  </div>\n",
              "  "
            ]
          },
          "metadata": {},
          "execution_count": 5
        }
      ],
      "source": [
        "df_test= pd.read_csv('/content/CE802_P2_Test.csv')\n",
        "df_test.head()"
      ]
    },
    {
      "cell_type": "markdown",
      "source": [
        "# Create Function to Show result"
      ],
      "metadata": {
        "id": "rkuTlIFq-Adw"
      }
    },
    {
      "cell_type": "code",
      "source": [
        "def Final_result(y_test, y_pred):\n",
        "    \n",
        "# Print Accuracy, Recall, F1 Score, and Precision metrics.\n",
        "    print('Final_Result Metrics:')\n",
        "    print('Accuracy: ' + str(metrics.accuracy_score(y_test, y_pred)))\n",
        "    print('Recall: ' + str(metrics.recall_score(y_test, y_pred,average='macro')))\n",
        "    print('F1 Score: ' + str(metrics.f1_score(y_test, y_pred,average='macro')))\n",
        "    print('Precision: ' + str(metrics.precision_score(y_test, y_pred,average='macro')))"
      ],
      "metadata": {
        "id": "uKyUNJHJ-BYn"
      },
      "execution_count": 6,
      "outputs": []
    },
    {
      "cell_type": "code",
      "execution_count": 7,
      "metadata": {
        "colab": {
          "base_uri": "https://localhost:8080/"
        },
        "id": "AC5brTchNCUn",
        "outputId": "939c96f4-6866-459e-a6f3-67a5c212baeb"
      },
      "outputs": [
        {
          "output_type": "execute_result",
          "data": {
            "text/plain": [
              "F1       1500\n",
              "F2       1500\n",
              "F3       1500\n",
              "F4       1500\n",
              "F5       1500\n",
              "F6       1500\n",
              "F7       1500\n",
              "F8       1500\n",
              "F9       1500\n",
              "F10      1500\n",
              "F11      1500\n",
              "F12      1500\n",
              "F13      1500\n",
              "F14      1500\n",
              "F15       750\n",
              "Class    1500\n",
              "dtype: int64"
            ]
          },
          "metadata": {},
          "execution_count": 7
        }
      ],
      "source": [
        "df.count()"
      ]
    },
    {
      "cell_type": "code",
      "execution_count": 8,
      "metadata": {
        "colab": {
          "base_uri": "https://localhost:8080/"
        },
        "id": "nMJ20cr6M96J",
        "outputId": "41bb06fe-7911-49a2-e2f1-870ae14da60a"
      },
      "outputs": [
        {
          "output_type": "execute_result",
          "data": {
            "text/plain": [
              "750"
            ]
          },
          "metadata": {},
          "execution_count": 8
        }
      ],
      "source": [
        "df.isnull().sum().sum()\n",
        "#df.drop(['F15'],axis=1,inplace=True)\n",
        "# df['F15'] = df['F15'].fillna(0)"
      ]
    },
    {
      "cell_type": "code",
      "source": [
        "df.info()"
      ],
      "metadata": {
        "colab": {
          "base_uri": "https://localhost:8080/"
        },
        "id": "gE4KiJ9cuHYr",
        "outputId": "425d17a6-bb92-4b0b-d7f4-ce689312a6d3"
      },
      "execution_count": 9,
      "outputs": [
        {
          "output_type": "stream",
          "name": "stdout",
          "text": [
            "<class 'pandas.core.frame.DataFrame'>\n",
            "RangeIndex: 1500 entries, 0 to 1499\n",
            "Data columns (total 16 columns):\n",
            " #   Column  Non-Null Count  Dtype  \n",
            "---  ------  --------------  -----  \n",
            " 0   F1      1500 non-null   float64\n",
            " 1   F2      1500 non-null   float64\n",
            " 2   F3      1500 non-null   float64\n",
            " 3   F4      1500 non-null   float64\n",
            " 4   F5      1500 non-null   float64\n",
            " 5   F6      1500 non-null   float64\n",
            " 6   F7      1500 non-null   float64\n",
            " 7   F8      1500 non-null   int64  \n",
            " 8   F9      1500 non-null   float64\n",
            " 9   F10     1500 non-null   float64\n",
            " 10  F11     1500 non-null   float64\n",
            " 11  F12     1500 non-null   float64\n",
            " 12  F13     1500 non-null   int64  \n",
            " 13  F14     1500 non-null   float64\n",
            " 14  F15     750 non-null    float64\n",
            " 15  Class   1500 non-null   bool   \n",
            "dtypes: bool(1), float64(13), int64(2)\n",
            "memory usage: 177.4 KB\n"
          ]
        }
      ]
    },
    {
      "cell_type": "code",
      "execution_count": 10,
      "metadata": {
        "colab": {
          "base_uri": "https://localhost:8080/",
          "height": 551
        },
        "id": "4BgaR_oMLuhM",
        "outputId": "107c9e76-977c-4cab-dcbd-373f7d40a79e"
      },
      "outputs": [
        {
          "output_type": "execute_result",
          "data": {
            "text/plain": [
              "             F1        F2        F3        F4        F5        F6        F7  \\\n",
              "F1     1.000000  0.637508  0.630234 -0.620092 -0.637027  0.238974 -0.336565   \n",
              "F2     0.637508  1.000000  0.755101 -0.753287 -0.762769 -0.194739 -0.276405   \n",
              "F3     0.630234  0.755101  1.000000 -0.802995 -0.826213 -0.215099 -0.167082   \n",
              "F4    -0.620092 -0.753287 -0.802995  1.000000  0.818105  0.192413  0.170702   \n",
              "F5    -0.637027 -0.762769 -0.826213  0.818105  1.000000  0.207080  0.181686   \n",
              "F6     0.238974 -0.194739 -0.215099  0.192413  0.207080  1.000000 -0.251693   \n",
              "F7    -0.336565 -0.276405 -0.167082  0.170702  0.181686 -0.251693  1.000000   \n",
              "F8     0.600153  0.706639  0.679250 -0.676389 -0.675264 -0.069969 -0.012291   \n",
              "F9    -0.611943 -0.750944 -0.804192  0.794590  0.807678  0.207789  0.166323   \n",
              "F10    0.599113  0.672167  0.599455 -0.595590 -0.619599 -0.088436 -0.204661   \n",
              "F11    0.614027  0.763419  0.813816 -0.791322 -0.809473 -0.205886 -0.176375   \n",
              "F12    0.697186  0.834246  0.861852 -0.854378 -0.867305 -0.203882 -0.201330   \n",
              "F13    0.738079  0.888977  0.873724 -0.865109 -0.877293 -0.194345 -0.229981   \n",
              "F14    0.681754  0.837365  0.884842 -0.873428 -0.887500 -0.224060 -0.182643   \n",
              "F15   -0.230740 -0.297380 -0.161148  0.187445  0.176167  0.071379 -0.019036   \n",
              "Class -0.144057 -0.191255 -0.079108  0.079035  0.058308  0.050738 -0.024064   \n",
              "\n",
              "             F8        F9       F10       F11       F12       F13       F14  \\\n",
              "F1     0.600153 -0.611943  0.599113  0.614027  0.697186  0.738079  0.681754   \n",
              "F2     0.706639 -0.750944  0.672167  0.763419  0.834246  0.888977  0.837365   \n",
              "F3     0.679250 -0.804192  0.599455  0.813816  0.861852  0.873724  0.884842   \n",
              "F4    -0.676389  0.794590 -0.595590 -0.791322 -0.854378 -0.865109 -0.873428   \n",
              "F5    -0.675264  0.807678 -0.619599 -0.809473 -0.867305 -0.877293 -0.887500   \n",
              "F6    -0.069969  0.207789 -0.088436 -0.205886 -0.203882 -0.194345 -0.224060   \n",
              "F7    -0.012291  0.166323 -0.204661 -0.176375 -0.201330 -0.229981 -0.182643   \n",
              "F8     1.000000 -0.682649  0.540342  0.690864  0.733312  0.742369  0.755121   \n",
              "F9    -0.682649  1.000000 -0.611131 -0.804545 -0.855536 -0.863027 -0.873595   \n",
              "F10    0.540342 -0.611131  1.000000  0.614240  0.721849  0.744822  0.727545   \n",
              "F11    0.690864 -0.804545  0.614240  1.000000  0.863434  0.868528  0.883349   \n",
              "F12    0.733312 -0.855536  0.721849  0.863434  1.000000  0.954840  0.906307   \n",
              "F13    0.742369 -0.863027  0.744822  0.868528  0.954840  1.000000  0.956640   \n",
              "F14    0.755121 -0.873595  0.727545  0.883349  0.906307  0.956640  1.000000   \n",
              "F15   -0.239084  0.173578 -0.363370 -0.175460 -0.234449 -0.318372 -0.195861   \n",
              "Class -0.152249  0.068795 -0.266599 -0.057144 -0.135190 -0.203649 -0.080522   \n",
              "\n",
              "            F15     Class  \n",
              "F1    -0.230740 -0.144057  \n",
              "F2    -0.297380 -0.191255  \n",
              "F3    -0.161148 -0.079108  \n",
              "F4     0.187445  0.079035  \n",
              "F5     0.176167  0.058308  \n",
              "F6     0.071379  0.050738  \n",
              "F7    -0.019036 -0.024064  \n",
              "F8    -0.239084 -0.152249  \n",
              "F9     0.173578  0.068795  \n",
              "F10   -0.363370 -0.266599  \n",
              "F11   -0.175460 -0.057144  \n",
              "F12   -0.234449 -0.135190  \n",
              "F13   -0.318372 -0.203649  \n",
              "F14   -0.195861 -0.080522  \n",
              "F15    1.000000  0.729540  \n",
              "Class  0.729540  1.000000  "
            ],
            "text/html": [
              "\n",
              "  <div id=\"df-f33cbc33-8973-4cd1-8233-8c86648ce376\">\n",
              "    <div class=\"colab-df-container\">\n",
              "      <div>\n",
              "<style scoped>\n",
              "    .dataframe tbody tr th:only-of-type {\n",
              "        vertical-align: middle;\n",
              "    }\n",
              "\n",
              "    .dataframe tbody tr th {\n",
              "        vertical-align: top;\n",
              "    }\n",
              "\n",
              "    .dataframe thead th {\n",
              "        text-align: right;\n",
              "    }\n",
              "</style>\n",
              "<table border=\"1\" class=\"dataframe\">\n",
              "  <thead>\n",
              "    <tr style=\"text-align: right;\">\n",
              "      <th></th>\n",
              "      <th>F1</th>\n",
              "      <th>F2</th>\n",
              "      <th>F3</th>\n",
              "      <th>F4</th>\n",
              "      <th>F5</th>\n",
              "      <th>F6</th>\n",
              "      <th>F7</th>\n",
              "      <th>F8</th>\n",
              "      <th>F9</th>\n",
              "      <th>F10</th>\n",
              "      <th>F11</th>\n",
              "      <th>F12</th>\n",
              "      <th>F13</th>\n",
              "      <th>F14</th>\n",
              "      <th>F15</th>\n",
              "      <th>Class</th>\n",
              "    </tr>\n",
              "  </thead>\n",
              "  <tbody>\n",
              "    <tr>\n",
              "      <th>F1</th>\n",
              "      <td>1.000000</td>\n",
              "      <td>0.637508</td>\n",
              "      <td>0.630234</td>\n",
              "      <td>-0.620092</td>\n",
              "      <td>-0.637027</td>\n",
              "      <td>0.238974</td>\n",
              "      <td>-0.336565</td>\n",
              "      <td>0.600153</td>\n",
              "      <td>-0.611943</td>\n",
              "      <td>0.599113</td>\n",
              "      <td>0.614027</td>\n",
              "      <td>0.697186</td>\n",
              "      <td>0.738079</td>\n",
              "      <td>0.681754</td>\n",
              "      <td>-0.230740</td>\n",
              "      <td>-0.144057</td>\n",
              "    </tr>\n",
              "    <tr>\n",
              "      <th>F2</th>\n",
              "      <td>0.637508</td>\n",
              "      <td>1.000000</td>\n",
              "      <td>0.755101</td>\n",
              "      <td>-0.753287</td>\n",
              "      <td>-0.762769</td>\n",
              "      <td>-0.194739</td>\n",
              "      <td>-0.276405</td>\n",
              "      <td>0.706639</td>\n",
              "      <td>-0.750944</td>\n",
              "      <td>0.672167</td>\n",
              "      <td>0.763419</td>\n",
              "      <td>0.834246</td>\n",
              "      <td>0.888977</td>\n",
              "      <td>0.837365</td>\n",
              "      <td>-0.297380</td>\n",
              "      <td>-0.191255</td>\n",
              "    </tr>\n",
              "    <tr>\n",
              "      <th>F3</th>\n",
              "      <td>0.630234</td>\n",
              "      <td>0.755101</td>\n",
              "      <td>1.000000</td>\n",
              "      <td>-0.802995</td>\n",
              "      <td>-0.826213</td>\n",
              "      <td>-0.215099</td>\n",
              "      <td>-0.167082</td>\n",
              "      <td>0.679250</td>\n",
              "      <td>-0.804192</td>\n",
              "      <td>0.599455</td>\n",
              "      <td>0.813816</td>\n",
              "      <td>0.861852</td>\n",
              "      <td>0.873724</td>\n",
              "      <td>0.884842</td>\n",
              "      <td>-0.161148</td>\n",
              "      <td>-0.079108</td>\n",
              "    </tr>\n",
              "    <tr>\n",
              "      <th>F4</th>\n",
              "      <td>-0.620092</td>\n",
              "      <td>-0.753287</td>\n",
              "      <td>-0.802995</td>\n",
              "      <td>1.000000</td>\n",
              "      <td>0.818105</td>\n",
              "      <td>0.192413</td>\n",
              "      <td>0.170702</td>\n",
              "      <td>-0.676389</td>\n",
              "      <td>0.794590</td>\n",
              "      <td>-0.595590</td>\n",
              "      <td>-0.791322</td>\n",
              "      <td>-0.854378</td>\n",
              "      <td>-0.865109</td>\n",
              "      <td>-0.873428</td>\n",
              "      <td>0.187445</td>\n",
              "      <td>0.079035</td>\n",
              "    </tr>\n",
              "    <tr>\n",
              "      <th>F5</th>\n",
              "      <td>-0.637027</td>\n",
              "      <td>-0.762769</td>\n",
              "      <td>-0.826213</td>\n",
              "      <td>0.818105</td>\n",
              "      <td>1.000000</td>\n",
              "      <td>0.207080</td>\n",
              "      <td>0.181686</td>\n",
              "      <td>-0.675264</td>\n",
              "      <td>0.807678</td>\n",
              "      <td>-0.619599</td>\n",
              "      <td>-0.809473</td>\n",
              "      <td>-0.867305</td>\n",
              "      <td>-0.877293</td>\n",
              "      <td>-0.887500</td>\n",
              "      <td>0.176167</td>\n",
              "      <td>0.058308</td>\n",
              "    </tr>\n",
              "    <tr>\n",
              "      <th>F6</th>\n",
              "      <td>0.238974</td>\n",
              "      <td>-0.194739</td>\n",
              "      <td>-0.215099</td>\n",
              "      <td>0.192413</td>\n",
              "      <td>0.207080</td>\n",
              "      <td>1.000000</td>\n",
              "      <td>-0.251693</td>\n",
              "      <td>-0.069969</td>\n",
              "      <td>0.207789</td>\n",
              "      <td>-0.088436</td>\n",
              "      <td>-0.205886</td>\n",
              "      <td>-0.203882</td>\n",
              "      <td>-0.194345</td>\n",
              "      <td>-0.224060</td>\n",
              "      <td>0.071379</td>\n",
              "      <td>0.050738</td>\n",
              "    </tr>\n",
              "    <tr>\n",
              "      <th>F7</th>\n",
              "      <td>-0.336565</td>\n",
              "      <td>-0.276405</td>\n",
              "      <td>-0.167082</td>\n",
              "      <td>0.170702</td>\n",
              "      <td>0.181686</td>\n",
              "      <td>-0.251693</td>\n",
              "      <td>1.000000</td>\n",
              "      <td>-0.012291</td>\n",
              "      <td>0.166323</td>\n",
              "      <td>-0.204661</td>\n",
              "      <td>-0.176375</td>\n",
              "      <td>-0.201330</td>\n",
              "      <td>-0.229981</td>\n",
              "      <td>-0.182643</td>\n",
              "      <td>-0.019036</td>\n",
              "      <td>-0.024064</td>\n",
              "    </tr>\n",
              "    <tr>\n",
              "      <th>F8</th>\n",
              "      <td>0.600153</td>\n",
              "      <td>0.706639</td>\n",
              "      <td>0.679250</td>\n",
              "      <td>-0.676389</td>\n",
              "      <td>-0.675264</td>\n",
              "      <td>-0.069969</td>\n",
              "      <td>-0.012291</td>\n",
              "      <td>1.000000</td>\n",
              "      <td>-0.682649</td>\n",
              "      <td>0.540342</td>\n",
              "      <td>0.690864</td>\n",
              "      <td>0.733312</td>\n",
              "      <td>0.742369</td>\n",
              "      <td>0.755121</td>\n",
              "      <td>-0.239084</td>\n",
              "      <td>-0.152249</td>\n",
              "    </tr>\n",
              "    <tr>\n",
              "      <th>F9</th>\n",
              "      <td>-0.611943</td>\n",
              "      <td>-0.750944</td>\n",
              "      <td>-0.804192</td>\n",
              "      <td>0.794590</td>\n",
              "      <td>0.807678</td>\n",
              "      <td>0.207789</td>\n",
              "      <td>0.166323</td>\n",
              "      <td>-0.682649</td>\n",
              "      <td>1.000000</td>\n",
              "      <td>-0.611131</td>\n",
              "      <td>-0.804545</td>\n",
              "      <td>-0.855536</td>\n",
              "      <td>-0.863027</td>\n",
              "      <td>-0.873595</td>\n",
              "      <td>0.173578</td>\n",
              "      <td>0.068795</td>\n",
              "    </tr>\n",
              "    <tr>\n",
              "      <th>F10</th>\n",
              "      <td>0.599113</td>\n",
              "      <td>0.672167</td>\n",
              "      <td>0.599455</td>\n",
              "      <td>-0.595590</td>\n",
              "      <td>-0.619599</td>\n",
              "      <td>-0.088436</td>\n",
              "      <td>-0.204661</td>\n",
              "      <td>0.540342</td>\n",
              "      <td>-0.611131</td>\n",
              "      <td>1.000000</td>\n",
              "      <td>0.614240</td>\n",
              "      <td>0.721849</td>\n",
              "      <td>0.744822</td>\n",
              "      <td>0.727545</td>\n",
              "      <td>-0.363370</td>\n",
              "      <td>-0.266599</td>\n",
              "    </tr>\n",
              "    <tr>\n",
              "      <th>F11</th>\n",
              "      <td>0.614027</td>\n",
              "      <td>0.763419</td>\n",
              "      <td>0.813816</td>\n",
              "      <td>-0.791322</td>\n",
              "      <td>-0.809473</td>\n",
              "      <td>-0.205886</td>\n",
              "      <td>-0.176375</td>\n",
              "      <td>0.690864</td>\n",
              "      <td>-0.804545</td>\n",
              "      <td>0.614240</td>\n",
              "      <td>1.000000</td>\n",
              "      <td>0.863434</td>\n",
              "      <td>0.868528</td>\n",
              "      <td>0.883349</td>\n",
              "      <td>-0.175460</td>\n",
              "      <td>-0.057144</td>\n",
              "    </tr>\n",
              "    <tr>\n",
              "      <th>F12</th>\n",
              "      <td>0.697186</td>\n",
              "      <td>0.834246</td>\n",
              "      <td>0.861852</td>\n",
              "      <td>-0.854378</td>\n",
              "      <td>-0.867305</td>\n",
              "      <td>-0.203882</td>\n",
              "      <td>-0.201330</td>\n",
              "      <td>0.733312</td>\n",
              "      <td>-0.855536</td>\n",
              "      <td>0.721849</td>\n",
              "      <td>0.863434</td>\n",
              "      <td>1.000000</td>\n",
              "      <td>0.954840</td>\n",
              "      <td>0.906307</td>\n",
              "      <td>-0.234449</td>\n",
              "      <td>-0.135190</td>\n",
              "    </tr>\n",
              "    <tr>\n",
              "      <th>F13</th>\n",
              "      <td>0.738079</td>\n",
              "      <td>0.888977</td>\n",
              "      <td>0.873724</td>\n",
              "      <td>-0.865109</td>\n",
              "      <td>-0.877293</td>\n",
              "      <td>-0.194345</td>\n",
              "      <td>-0.229981</td>\n",
              "      <td>0.742369</td>\n",
              "      <td>-0.863027</td>\n",
              "      <td>0.744822</td>\n",
              "      <td>0.868528</td>\n",
              "      <td>0.954840</td>\n",
              "      <td>1.000000</td>\n",
              "      <td>0.956640</td>\n",
              "      <td>-0.318372</td>\n",
              "      <td>-0.203649</td>\n",
              "    </tr>\n",
              "    <tr>\n",
              "      <th>F14</th>\n",
              "      <td>0.681754</td>\n",
              "      <td>0.837365</td>\n",
              "      <td>0.884842</td>\n",
              "      <td>-0.873428</td>\n",
              "      <td>-0.887500</td>\n",
              "      <td>-0.224060</td>\n",
              "      <td>-0.182643</td>\n",
              "      <td>0.755121</td>\n",
              "      <td>-0.873595</td>\n",
              "      <td>0.727545</td>\n",
              "      <td>0.883349</td>\n",
              "      <td>0.906307</td>\n",
              "      <td>0.956640</td>\n",
              "      <td>1.000000</td>\n",
              "      <td>-0.195861</td>\n",
              "      <td>-0.080522</td>\n",
              "    </tr>\n",
              "    <tr>\n",
              "      <th>F15</th>\n",
              "      <td>-0.230740</td>\n",
              "      <td>-0.297380</td>\n",
              "      <td>-0.161148</td>\n",
              "      <td>0.187445</td>\n",
              "      <td>0.176167</td>\n",
              "      <td>0.071379</td>\n",
              "      <td>-0.019036</td>\n",
              "      <td>-0.239084</td>\n",
              "      <td>0.173578</td>\n",
              "      <td>-0.363370</td>\n",
              "      <td>-0.175460</td>\n",
              "      <td>-0.234449</td>\n",
              "      <td>-0.318372</td>\n",
              "      <td>-0.195861</td>\n",
              "      <td>1.000000</td>\n",
              "      <td>0.729540</td>\n",
              "    </tr>\n",
              "    <tr>\n",
              "      <th>Class</th>\n",
              "      <td>-0.144057</td>\n",
              "      <td>-0.191255</td>\n",
              "      <td>-0.079108</td>\n",
              "      <td>0.079035</td>\n",
              "      <td>0.058308</td>\n",
              "      <td>0.050738</td>\n",
              "      <td>-0.024064</td>\n",
              "      <td>-0.152249</td>\n",
              "      <td>0.068795</td>\n",
              "      <td>-0.266599</td>\n",
              "      <td>-0.057144</td>\n",
              "      <td>-0.135190</td>\n",
              "      <td>-0.203649</td>\n",
              "      <td>-0.080522</td>\n",
              "      <td>0.729540</td>\n",
              "      <td>1.000000</td>\n",
              "    </tr>\n",
              "  </tbody>\n",
              "</table>\n",
              "</div>\n",
              "      <button class=\"colab-df-convert\" onclick=\"convertToInteractive('df-f33cbc33-8973-4cd1-8233-8c86648ce376')\"\n",
              "              title=\"Convert this dataframe to an interactive table.\"\n",
              "              style=\"display:none;\">\n",
              "        \n",
              "  <svg xmlns=\"http://www.w3.org/2000/svg\" height=\"24px\"viewBox=\"0 0 24 24\"\n",
              "       width=\"24px\">\n",
              "    <path d=\"M0 0h24v24H0V0z\" fill=\"none\"/>\n",
              "    <path d=\"M18.56 5.44l.94 2.06.94-2.06 2.06-.94-2.06-.94-.94-2.06-.94 2.06-2.06.94zm-11 1L8.5 8.5l.94-2.06 2.06-.94-2.06-.94L8.5 2.5l-.94 2.06-2.06.94zm10 10l.94 2.06.94-2.06 2.06-.94-2.06-.94-.94-2.06-.94 2.06-2.06.94z\"/><path d=\"M17.41 7.96l-1.37-1.37c-.4-.4-.92-.59-1.43-.59-.52 0-1.04.2-1.43.59L10.3 9.45l-7.72 7.72c-.78.78-.78 2.05 0 2.83L4 21.41c.39.39.9.59 1.41.59.51 0 1.02-.2 1.41-.59l7.78-7.78 2.81-2.81c.8-.78.8-2.07 0-2.86zM5.41 20L4 18.59l7.72-7.72 1.47 1.35L5.41 20z\"/>\n",
              "  </svg>\n",
              "      </button>\n",
              "      \n",
              "  <style>\n",
              "    .colab-df-container {\n",
              "      display:flex;\n",
              "      flex-wrap:wrap;\n",
              "      gap: 12px;\n",
              "    }\n",
              "\n",
              "    .colab-df-convert {\n",
              "      background-color: #E8F0FE;\n",
              "      border: none;\n",
              "      border-radius: 50%;\n",
              "      cursor: pointer;\n",
              "      display: none;\n",
              "      fill: #1967D2;\n",
              "      height: 32px;\n",
              "      padding: 0 0 0 0;\n",
              "      width: 32px;\n",
              "    }\n",
              "\n",
              "    .colab-df-convert:hover {\n",
              "      background-color: #E2EBFA;\n",
              "      box-shadow: 0px 1px 2px rgba(60, 64, 67, 0.3), 0px 1px 3px 1px rgba(60, 64, 67, 0.15);\n",
              "      fill: #174EA6;\n",
              "    }\n",
              "\n",
              "    [theme=dark] .colab-df-convert {\n",
              "      background-color: #3B4455;\n",
              "      fill: #D2E3FC;\n",
              "    }\n",
              "\n",
              "    [theme=dark] .colab-df-convert:hover {\n",
              "      background-color: #434B5C;\n",
              "      box-shadow: 0px 1px 3px 1px rgba(0, 0, 0, 0.15);\n",
              "      filter: drop-shadow(0px 1px 2px rgba(0, 0, 0, 0.3));\n",
              "      fill: #FFFFFF;\n",
              "    }\n",
              "  </style>\n",
              "\n",
              "      <script>\n",
              "        const buttonEl =\n",
              "          document.querySelector('#df-f33cbc33-8973-4cd1-8233-8c86648ce376 button.colab-df-convert');\n",
              "        buttonEl.style.display =\n",
              "          google.colab.kernel.accessAllowed ? 'block' : 'none';\n",
              "\n",
              "        async function convertToInteractive(key) {\n",
              "          const element = document.querySelector('#df-f33cbc33-8973-4cd1-8233-8c86648ce376');\n",
              "          const dataTable =\n",
              "            await google.colab.kernel.invokeFunction('convertToInteractive',\n",
              "                                                     [key], {});\n",
              "          if (!dataTable) return;\n",
              "\n",
              "          const docLinkHtml = 'Like what you see? Visit the ' +\n",
              "            '<a target=\"_blank\" href=https://colab.research.google.com/notebooks/data_table.ipynb>data table notebook</a>'\n",
              "            + ' to learn more about interactive tables.';\n",
              "          element.innerHTML = '';\n",
              "          dataTable['output_type'] = 'display_data';\n",
              "          await google.colab.output.renderOutput(dataTable, element);\n",
              "          const docLink = document.createElement('div');\n",
              "          docLink.innerHTML = docLinkHtml;\n",
              "          element.appendChild(docLink);\n",
              "        }\n",
              "      </script>\n",
              "    </div>\n",
              "  </div>\n",
              "  "
            ]
          },
          "metadata": {},
          "execution_count": 10
        }
      ],
      "source": [
        "df.corr()"
      ]
    },
    {
      "cell_type": "code",
      "execution_count": 11,
      "metadata": {
        "colab": {
          "base_uri": "https://localhost:8080/",
          "height": 551
        },
        "id": "9WzjcSZbLvIb",
        "outputId": "a3cf18e2-a411-40ce-bb0a-b7fbe7d25080"
      },
      "outputs": [
        {
          "output_type": "execute_result",
          "data": {
            "text/plain": [
              "        count unique    top freq        mean         std     min      25%  \\\n",
              "F1     1500.0    NaN    NaN  NaN      22.976    14.31863     5.7     11.7   \n",
              "F2     1500.0    NaN    NaN  NaN    14.90628    12.97563     0.0     3.72   \n",
              "F3     1500.0    NaN    NaN  NaN     3.57348    5.108542  -13.22    -0.22   \n",
              "F4     1500.0    NaN    NaN  NaN    6.715067    4.982472    -2.3     1.96   \n",
              "F5     1500.0    NaN    NaN  NaN    13.34116    7.541549   -0.09     6.12   \n",
              "F6     1500.0    NaN    NaN  NaN     109.338  120.565344 -192.42    62.58   \n",
              "F7     1500.0    NaN    NaN  NaN   -0.127647    1.108964   -2.49    -0.78   \n",
              "F8     1500.0    NaN    NaN  NaN  109.024667   117.33458     0.0     15.0   \n",
              "F9     1500.0    NaN    NaN  NaN    6.378787    2.540644    1.72      3.9   \n",
              "F10    1500.0    NaN    NaN  NaN  213.450667  142.833748   54.56   102.56   \n",
              "F11    1500.0    NaN    NaN  NaN   -0.009733    5.090345  -16.74    -3.78   \n",
              "F12    1500.0    NaN    NaN  NaN    11.56284   10.395829     0.0      1.8   \n",
              "F13    1500.0    NaN    NaN  NaN    5.403333    4.504907     0.0      1.0   \n",
              "F14    1500.0    NaN    NaN  NaN    4.917813    3.166909    1.23     1.95   \n",
              "F15     750.0    NaN    NaN  NaN   10.853013    1.005117    8.13  10.1325   \n",
              "Class    1500      2  False  809         NaN         NaN     NaN      NaN   \n",
              "\n",
              "          50%     75%     max  \n",
              "F1       15.7    37.7    57.7  \n",
              "F2       6.21    24.6    47.1  \n",
              "F3       1.58   8.565   12.52  \n",
              "F4       8.62  10.385   22.18  \n",
              "F5      16.29   19.17   36.33  \n",
              "F6     125.58  164.58  452.58  \n",
              "F7      -0.28    0.45    4.11  \n",
              "F8       50.0   195.0   390.0  \n",
              "F9       7.36    8.26   15.41  \n",
              "F10    142.56  334.56  544.56  \n",
              "F11     -1.99     4.9    9.12  \n",
              "F12      3.06   21.15   31.05  \n",
              "F13       1.0    10.0    10.0  \n",
              "F14      2.31    7.68   11.38  \n",
              "F15     10.86    11.6   13.21  \n",
              "Class     NaN     NaN     NaN  "
            ],
            "text/html": [
              "\n",
              "  <div id=\"df-b66181cc-af8f-44d1-b2a0-a0fc467a9b04\">\n",
              "    <div class=\"colab-df-container\">\n",
              "      <div>\n",
              "<style scoped>\n",
              "    .dataframe tbody tr th:only-of-type {\n",
              "        vertical-align: middle;\n",
              "    }\n",
              "\n",
              "    .dataframe tbody tr th {\n",
              "        vertical-align: top;\n",
              "    }\n",
              "\n",
              "    .dataframe thead th {\n",
              "        text-align: right;\n",
              "    }\n",
              "</style>\n",
              "<table border=\"1\" class=\"dataframe\">\n",
              "  <thead>\n",
              "    <tr style=\"text-align: right;\">\n",
              "      <th></th>\n",
              "      <th>count</th>\n",
              "      <th>unique</th>\n",
              "      <th>top</th>\n",
              "      <th>freq</th>\n",
              "      <th>mean</th>\n",
              "      <th>std</th>\n",
              "      <th>min</th>\n",
              "      <th>25%</th>\n",
              "      <th>50%</th>\n",
              "      <th>75%</th>\n",
              "      <th>max</th>\n",
              "    </tr>\n",
              "  </thead>\n",
              "  <tbody>\n",
              "    <tr>\n",
              "      <th>F1</th>\n",
              "      <td>1500.0</td>\n",
              "      <td>NaN</td>\n",
              "      <td>NaN</td>\n",
              "      <td>NaN</td>\n",
              "      <td>22.976</td>\n",
              "      <td>14.31863</td>\n",
              "      <td>5.7</td>\n",
              "      <td>11.7</td>\n",
              "      <td>15.7</td>\n",
              "      <td>37.7</td>\n",
              "      <td>57.7</td>\n",
              "    </tr>\n",
              "    <tr>\n",
              "      <th>F2</th>\n",
              "      <td>1500.0</td>\n",
              "      <td>NaN</td>\n",
              "      <td>NaN</td>\n",
              "      <td>NaN</td>\n",
              "      <td>14.90628</td>\n",
              "      <td>12.97563</td>\n",
              "      <td>0.0</td>\n",
              "      <td>3.72</td>\n",
              "      <td>6.21</td>\n",
              "      <td>24.6</td>\n",
              "      <td>47.1</td>\n",
              "    </tr>\n",
              "    <tr>\n",
              "      <th>F3</th>\n",
              "      <td>1500.0</td>\n",
              "      <td>NaN</td>\n",
              "      <td>NaN</td>\n",
              "      <td>NaN</td>\n",
              "      <td>3.57348</td>\n",
              "      <td>5.108542</td>\n",
              "      <td>-13.22</td>\n",
              "      <td>-0.22</td>\n",
              "      <td>1.58</td>\n",
              "      <td>8.565</td>\n",
              "      <td>12.52</td>\n",
              "    </tr>\n",
              "    <tr>\n",
              "      <th>F4</th>\n",
              "      <td>1500.0</td>\n",
              "      <td>NaN</td>\n",
              "      <td>NaN</td>\n",
              "      <td>NaN</td>\n",
              "      <td>6.715067</td>\n",
              "      <td>4.982472</td>\n",
              "      <td>-2.3</td>\n",
              "      <td>1.96</td>\n",
              "      <td>8.62</td>\n",
              "      <td>10.385</td>\n",
              "      <td>22.18</td>\n",
              "    </tr>\n",
              "    <tr>\n",
              "      <th>F5</th>\n",
              "      <td>1500.0</td>\n",
              "      <td>NaN</td>\n",
              "      <td>NaN</td>\n",
              "      <td>NaN</td>\n",
              "      <td>13.34116</td>\n",
              "      <td>7.541549</td>\n",
              "      <td>-0.09</td>\n",
              "      <td>6.12</td>\n",
              "      <td>16.29</td>\n",
              "      <td>19.17</td>\n",
              "      <td>36.33</td>\n",
              "    </tr>\n",
              "    <tr>\n",
              "      <th>F6</th>\n",
              "      <td>1500.0</td>\n",
              "      <td>NaN</td>\n",
              "      <td>NaN</td>\n",
              "      <td>NaN</td>\n",
              "      <td>109.338</td>\n",
              "      <td>120.565344</td>\n",
              "      <td>-192.42</td>\n",
              "      <td>62.58</td>\n",
              "      <td>125.58</td>\n",
              "      <td>164.58</td>\n",
              "      <td>452.58</td>\n",
              "    </tr>\n",
              "    <tr>\n",
              "      <th>F7</th>\n",
              "      <td>1500.0</td>\n",
              "      <td>NaN</td>\n",
              "      <td>NaN</td>\n",
              "      <td>NaN</td>\n",
              "      <td>-0.127647</td>\n",
              "      <td>1.108964</td>\n",
              "      <td>-2.49</td>\n",
              "      <td>-0.78</td>\n",
              "      <td>-0.28</td>\n",
              "      <td>0.45</td>\n",
              "      <td>4.11</td>\n",
              "    </tr>\n",
              "    <tr>\n",
              "      <th>F8</th>\n",
              "      <td>1500.0</td>\n",
              "      <td>NaN</td>\n",
              "      <td>NaN</td>\n",
              "      <td>NaN</td>\n",
              "      <td>109.024667</td>\n",
              "      <td>117.33458</td>\n",
              "      <td>0.0</td>\n",
              "      <td>15.0</td>\n",
              "      <td>50.0</td>\n",
              "      <td>195.0</td>\n",
              "      <td>390.0</td>\n",
              "    </tr>\n",
              "    <tr>\n",
              "      <th>F9</th>\n",
              "      <td>1500.0</td>\n",
              "      <td>NaN</td>\n",
              "      <td>NaN</td>\n",
              "      <td>NaN</td>\n",
              "      <td>6.378787</td>\n",
              "      <td>2.540644</td>\n",
              "      <td>1.72</td>\n",
              "      <td>3.9</td>\n",
              "      <td>7.36</td>\n",
              "      <td>8.26</td>\n",
              "      <td>15.41</td>\n",
              "    </tr>\n",
              "    <tr>\n",
              "      <th>F10</th>\n",
              "      <td>1500.0</td>\n",
              "      <td>NaN</td>\n",
              "      <td>NaN</td>\n",
              "      <td>NaN</td>\n",
              "      <td>213.450667</td>\n",
              "      <td>142.833748</td>\n",
              "      <td>54.56</td>\n",
              "      <td>102.56</td>\n",
              "      <td>142.56</td>\n",
              "      <td>334.56</td>\n",
              "      <td>544.56</td>\n",
              "    </tr>\n",
              "    <tr>\n",
              "      <th>F11</th>\n",
              "      <td>1500.0</td>\n",
              "      <td>NaN</td>\n",
              "      <td>NaN</td>\n",
              "      <td>NaN</td>\n",
              "      <td>-0.009733</td>\n",
              "      <td>5.090345</td>\n",
              "      <td>-16.74</td>\n",
              "      <td>-3.78</td>\n",
              "      <td>-1.99</td>\n",
              "      <td>4.9</td>\n",
              "      <td>9.12</td>\n",
              "    </tr>\n",
              "    <tr>\n",
              "      <th>F12</th>\n",
              "      <td>1500.0</td>\n",
              "      <td>NaN</td>\n",
              "      <td>NaN</td>\n",
              "      <td>NaN</td>\n",
              "      <td>11.56284</td>\n",
              "      <td>10.395829</td>\n",
              "      <td>0.0</td>\n",
              "      <td>1.8</td>\n",
              "      <td>3.06</td>\n",
              "      <td>21.15</td>\n",
              "      <td>31.05</td>\n",
              "    </tr>\n",
              "    <tr>\n",
              "      <th>F13</th>\n",
              "      <td>1500.0</td>\n",
              "      <td>NaN</td>\n",
              "      <td>NaN</td>\n",
              "      <td>NaN</td>\n",
              "      <td>5.403333</td>\n",
              "      <td>4.504907</td>\n",
              "      <td>0.0</td>\n",
              "      <td>1.0</td>\n",
              "      <td>1.0</td>\n",
              "      <td>10.0</td>\n",
              "      <td>10.0</td>\n",
              "    </tr>\n",
              "    <tr>\n",
              "      <th>F14</th>\n",
              "      <td>1500.0</td>\n",
              "      <td>NaN</td>\n",
              "      <td>NaN</td>\n",
              "      <td>NaN</td>\n",
              "      <td>4.917813</td>\n",
              "      <td>3.166909</td>\n",
              "      <td>1.23</td>\n",
              "      <td>1.95</td>\n",
              "      <td>2.31</td>\n",
              "      <td>7.68</td>\n",
              "      <td>11.38</td>\n",
              "    </tr>\n",
              "    <tr>\n",
              "      <th>F15</th>\n",
              "      <td>750.0</td>\n",
              "      <td>NaN</td>\n",
              "      <td>NaN</td>\n",
              "      <td>NaN</td>\n",
              "      <td>10.853013</td>\n",
              "      <td>1.005117</td>\n",
              "      <td>8.13</td>\n",
              "      <td>10.1325</td>\n",
              "      <td>10.86</td>\n",
              "      <td>11.6</td>\n",
              "      <td>13.21</td>\n",
              "    </tr>\n",
              "    <tr>\n",
              "      <th>Class</th>\n",
              "      <td>1500</td>\n",
              "      <td>2</td>\n",
              "      <td>False</td>\n",
              "      <td>809</td>\n",
              "      <td>NaN</td>\n",
              "      <td>NaN</td>\n",
              "      <td>NaN</td>\n",
              "      <td>NaN</td>\n",
              "      <td>NaN</td>\n",
              "      <td>NaN</td>\n",
              "      <td>NaN</td>\n",
              "    </tr>\n",
              "  </tbody>\n",
              "</table>\n",
              "</div>\n",
              "      <button class=\"colab-df-convert\" onclick=\"convertToInteractive('df-b66181cc-af8f-44d1-b2a0-a0fc467a9b04')\"\n",
              "              title=\"Convert this dataframe to an interactive table.\"\n",
              "              style=\"display:none;\">\n",
              "        \n",
              "  <svg xmlns=\"http://www.w3.org/2000/svg\" height=\"24px\"viewBox=\"0 0 24 24\"\n",
              "       width=\"24px\">\n",
              "    <path d=\"M0 0h24v24H0V0z\" fill=\"none\"/>\n",
              "    <path d=\"M18.56 5.44l.94 2.06.94-2.06 2.06-.94-2.06-.94-.94-2.06-.94 2.06-2.06.94zm-11 1L8.5 8.5l.94-2.06 2.06-.94-2.06-.94L8.5 2.5l-.94 2.06-2.06.94zm10 10l.94 2.06.94-2.06 2.06-.94-2.06-.94-.94-2.06-.94 2.06-2.06.94z\"/><path d=\"M17.41 7.96l-1.37-1.37c-.4-.4-.92-.59-1.43-.59-.52 0-1.04.2-1.43.59L10.3 9.45l-7.72 7.72c-.78.78-.78 2.05 0 2.83L4 21.41c.39.39.9.59 1.41.59.51 0 1.02-.2 1.41-.59l7.78-7.78 2.81-2.81c.8-.78.8-2.07 0-2.86zM5.41 20L4 18.59l7.72-7.72 1.47 1.35L5.41 20z\"/>\n",
              "  </svg>\n",
              "      </button>\n",
              "      \n",
              "  <style>\n",
              "    .colab-df-container {\n",
              "      display:flex;\n",
              "      flex-wrap:wrap;\n",
              "      gap: 12px;\n",
              "    }\n",
              "\n",
              "    .colab-df-convert {\n",
              "      background-color: #E8F0FE;\n",
              "      border: none;\n",
              "      border-radius: 50%;\n",
              "      cursor: pointer;\n",
              "      display: none;\n",
              "      fill: #1967D2;\n",
              "      height: 32px;\n",
              "      padding: 0 0 0 0;\n",
              "      width: 32px;\n",
              "    }\n",
              "\n",
              "    .colab-df-convert:hover {\n",
              "      background-color: #E2EBFA;\n",
              "      box-shadow: 0px 1px 2px rgba(60, 64, 67, 0.3), 0px 1px 3px 1px rgba(60, 64, 67, 0.15);\n",
              "      fill: #174EA6;\n",
              "    }\n",
              "\n",
              "    [theme=dark] .colab-df-convert {\n",
              "      background-color: #3B4455;\n",
              "      fill: #D2E3FC;\n",
              "    }\n",
              "\n",
              "    [theme=dark] .colab-df-convert:hover {\n",
              "      background-color: #434B5C;\n",
              "      box-shadow: 0px 1px 3px 1px rgba(0, 0, 0, 0.15);\n",
              "      filter: drop-shadow(0px 1px 2px rgba(0, 0, 0, 0.3));\n",
              "      fill: #FFFFFF;\n",
              "    }\n",
              "  </style>\n",
              "\n",
              "      <script>\n",
              "        const buttonEl =\n",
              "          document.querySelector('#df-b66181cc-af8f-44d1-b2a0-a0fc467a9b04 button.colab-df-convert');\n",
              "        buttonEl.style.display =\n",
              "          google.colab.kernel.accessAllowed ? 'block' : 'none';\n",
              "\n",
              "        async function convertToInteractive(key) {\n",
              "          const element = document.querySelector('#df-b66181cc-af8f-44d1-b2a0-a0fc467a9b04');\n",
              "          const dataTable =\n",
              "            await google.colab.kernel.invokeFunction('convertToInteractive',\n",
              "                                                     [key], {});\n",
              "          if (!dataTable) return;\n",
              "\n",
              "          const docLinkHtml = 'Like what you see? Visit the ' +\n",
              "            '<a target=\"_blank\" href=https://colab.research.google.com/notebooks/data_table.ipynb>data table notebook</a>'\n",
              "            + ' to learn more about interactive tables.';\n",
              "          element.innerHTML = '';\n",
              "          dataTable['output_type'] = 'display_data';\n",
              "          await google.colab.output.renderOutput(dataTable, element);\n",
              "          const docLink = document.createElement('div');\n",
              "          docLink.innerHTML = docLinkHtml;\n",
              "          element.appendChild(docLink);\n",
              "        }\n",
              "      </script>\n",
              "    </div>\n",
              "  </div>\n",
              "  "
            ]
          },
          "metadata": {},
          "execution_count": 11
        }
      ],
      "source": [
        "df.describe(include=\"all\").T"
      ]
    },
    {
      "cell_type": "code",
      "execution_count": 12,
      "metadata": {
        "colab": {
          "base_uri": "https://localhost:8080/",
          "height": 1000
        },
        "id": "3r_Krok9L-su",
        "outputId": "9b889318-fa3d-4a68-b837-5ccf6995a546"
      },
      "outputs": [
        {
          "output_type": "display_data",
          "data": {
            "text/plain": [
              "<Figure size 1440x1440 with 16 Axes>"
            ],
            "image/png": "[encoded data removed]"
          },
          "metadata": {
            "needs_background": "light"
          }
        }
      ],
      "source": [
        "p = df.hist(figsize = (20,20))\n",
        "plt.savefig(\"/content/Hist_map.png\")"
      ]
    },
    {
      "cell_type": "code",
      "execution_count": 13,
      "metadata": {
        "colab": {
          "base_uri": "https://localhost:8080/",
          "height": 733
        },
        "id": "2MYV3264MJit",
        "outputId": "b37df50c-42b4-4690-d244-85e44f65253b"
      },
      "outputs": [
        {
          "output_type": "display_data",
          "data": {
            "text/plain": [
              "<Figure size 1080x864 with 2 Axes>"
            ],
            "image/png": "[encoded data removed]"
          },
          "metadata": {
            "needs_background": "light"
          }
        },
        {
          "output_type": "display_data",
          "data": {
            "text/plain": [
              "<Figure size 432x288 with 0 Axes>"
            ]
          },
          "metadata": {}
        }
      ],
      "source": [
        "plt.figure(figsize=(15,12))\n",
        "sns.heatmap(round(df.corr(),2),annot=True)\n",
        "plt.title('Heat_map');\n",
        "plt.show()\n",
        "plt.savefig(\"/content/Heat_map.png\")"
      ]
    },
    {
      "cell_type": "code",
      "execution_count": 14,
      "metadata": {
        "colab": {
          "base_uri": "https://localhost:8080/",
          "height": 609
        },
        "id": "8Ui9uXJsPcjl",
        "outputId": "64fc9ce5-0e45-4f2c-f5ce-b4943907c241"
      },
      "outputs": [
        {
          "output_type": "display_data",
          "data": {
            "text/plain": [
              "<Figure size 720x720 with 1 Axes>"
            ],
            "image/png": "[encoded data removed]"
          },
          "metadata": {
            "needs_background": "light"
          }
        },
        {
          "output_type": "display_data",
          "data": {
            "text/plain": [
              "<Figure size 432x288 with 0 Axes>"
            ]
          },
          "metadata": {}
        }
      ],
      "source": [
        "plt.figure(figsize=(10,10))\n",
        "sns.boxplot(data=df)\n",
        "plt.show()\n",
        "plt.savefig(\"/content/out_map.png\")"
      ]
    },
    {
      "cell_type": "code",
      "source": [
        ""
      ],
      "metadata": {
        "id": "KKLQljirvVcj"
      },
      "execution_count": 14,
      "outputs": []
    },
    {
      "cell_type": "code",
      "execution_count": 15,
      "metadata": {
        "colab": {
          "base_uri": "https://localhost:8080/"
        },
        "id": "5PhFZP1DMioe",
        "outputId": "84625e21-797b-4974-b668-2f475707c8f7"
      },
      "outputs": [
        {
          "output_type": "execute_result",
          "data": {
            "text/plain": [
              "750"
            ]
          },
          "metadata": {},
          "execution_count": 15
        }
      ],
      "source": [
        "df.isnull().sum().sum()"
      ]
    },
    {
      "cell_type": "code",
      "source": [
        "df.count()"
      ],
      "metadata": {
        "colab": {
          "base_uri": "https://localhost:8080/"
        },
        "id": "MAdTohZMyfHn",
        "outputId": "037e7cb6-6632-4dce-c2d1-e738bf6a3ee9"
      },
      "execution_count": 16,
      "outputs": [
        {
          "output_type": "execute_result",
          "data": {
            "text/plain": [
              "F1       1500\n",
              "F2       1500\n",
              "F3       1500\n",
              "F4       1500\n",
              "F5       1500\n",
              "F6       1500\n",
              "F7       1500\n",
              "F8       1500\n",
              "F9       1500\n",
              "F10      1500\n",
              "F11      1500\n",
              "F12      1500\n",
              "F13      1500\n",
              "F14      1500\n",
              "F15       750\n",
              "Class    1500\n",
              "dtype: int64"
            ]
          },
          "metadata": {},
          "execution_count": 16
        }
      ]
    },
    {
      "cell_type": "code",
      "execution_count": 17,
      "metadata": {
        "id": "6Znx1S0QMoHe"
      },
      "outputs": [],
      "source": [
        "df.fillna(df.mean(),inplace=True)"
      ]
    },
    {
      "cell_type": "code",
      "source": [
        "plt.figure(figsize=(6,6))\n",
        "sns.countplot(df['Class'])\n",
        "plt.show()\n",
        "plt.savefig(\"/content/Class_map.png\")"
      ],
      "metadata": {
        "colab": {
          "base_uri": "https://localhost:8080/",
          "height": 460
        },
        "id": "ktFZbgm0z7e5",
        "outputId": "4394f019-3f78-4800-b604-b8b10811b35e"
      },
      "execution_count": 18,
      "outputs": [
        {
          "output_type": "stream",
          "name": "stderr",
          "text": [
            "/usr/local/lib/python3.7/dist-packages/seaborn/_decorators.py:43: FutureWarning: Pass the following variable as a keyword arg: x. From version 0.12, the only valid positional argument will be `data`, and passing other arguments without an explicit keyword will result in an error or misinterpretation.\n",
            "  FutureWarning\n"
          ]
        },
        {
          "output_type": "display_data",
          "data": {
            "text/plain": [
              "<Figure size 432x432 with 1 Axes>"
            ],
            "image/png": "[encoded data removed]"
          },
          "metadata": {
            "needs_background": "light"
          }
        },
        {
          "output_type": "display_data",
          "data": {
            "text/plain": [
              "<Figure size 432x288 with 0 Axes>"
            ]
          },
          "metadata": {}
        }
      ]
    },
    {
      "cell_type": "markdown",
      "source": [
        "#Categories X and Y value and Train x and Y value"
      ],
      "metadata": {
        "id": "7sKqDbM1-ivM"
      }
    },
    {
      "cell_type": "code",
      "source": [
        "X= df.drop(columns='Class')\n",
        "y=df['Class']\n",
        "\n",
        "X_train, X_test, y_train, y_test = train_test_split(X, y, test_size=0.3, random_state=42)\n",
        "\n",
        "clf_model = DecisionTreeClassifier(criterion=\"gini\", random_state=42,max_depth=3, min_samples_leaf=5)   \n"
      ],
      "metadata": {
        "id": "Cj75qILtylYu"
      },
      "execution_count": 19,
      "outputs": []
    },
    {
      "cell_type": "markdown",
      "source": [
        "# Decision Tree Classifier"
      ],
      "metadata": {
        "id": "ke_qQS2AFP7I"
      }
    },
    {
      "cell_type": "code",
      "source": [
        "clf_model.fit(X_train,y_train)"
      ],
      "metadata": {
        "colab": {
          "base_uri": "https://localhost:8080/"
        },
        "id": "40lCPS3zFDl2",
        "outputId": "93cc899c-e06f-4483-914a-4975d4864034"
      },
      "execution_count": 20,
      "outputs": [
        {
          "output_type": "execute_result",
          "data": {
            "text/plain": [
              "DecisionTreeClassifier(max_depth=3, min_samples_leaf=5, random_state=42)"
            ]
          },
          "metadata": {},
          "execution_count": 20
        }
      ]
    },
    {
      "cell_type": "code",
      "source": [
        "clf_model.score(X_train,y_train)"
      ],
      "metadata": {
        "colab": {
          "base_uri": "https://localhost:8080/"
        },
        "id": "QeTusJXjJAvd",
        "outputId": "4849adeb-1e46-4829-d8d6-769e0f8758ec"
      },
      "execution_count": 21,
      "outputs": [
        {
          "output_type": "execute_result",
          "data": {
            "text/plain": [
              "0.7447619047619047"
            ]
          },
          "metadata": {},
          "execution_count": 21
        }
      ]
    },
    {
      "cell_type": "code",
      "source": [
        "tree_param = {'criterion':['gini','entropy'],'max_depth': [6,8,10],'max_features':[6,8,10],'min_samples_leaf':[2,4,6,8,10],'max_leaf_nodes':[20,30,40], \"min_samples_split\":[2,4,6,8]}\n",
        "best_model = GridSearchCV(DecisionTreeClassifier(random_state=42), tree_param, verbose=1, cv=5)\n",
        "best_model.fit(X_train, y_train)"
      ],
      "metadata": {
        "colab": {
          "base_uri": "https://localhost:8080/"
        },
        "id": "a05M9erK4ijI",
        "outputId": "77a6325d-65c1-49c4-fb0a-d016d06d4243"
      },
      "execution_count": 22,
      "outputs": [
        {
          "output_type": "stream",
          "name": "stdout",
          "text": [
            "Fitting 5 folds for each of 1080 candidates, totalling 5400 fits\n"
          ]
        },
        {
          "output_type": "execute_result",
          "data": {
            "text/plain": [
              "GridSearchCV(cv=5, estimator=DecisionTreeClassifier(random_state=42),\n",
              "             param_grid={'criterion': ['gini', 'entropy'],\n",
              "                         'max_depth': [6, 8, 10], 'max_features': [6, 8, 10],\n",
              "                         'max_leaf_nodes': [20, 30, 40],\n",
              "                         'min_samples_leaf': [2, 4, 6, 8, 10],\n",
              "                         'min_samples_split': [2, 4, 6, 8]},\n",
              "             verbose=1)"
            ]
          },
          "metadata": {},
          "execution_count": 22
        }
      ]
    },
    {
      "cell_type": "code",
      "source": [
        "best_model.best_params_"
      ],
      "metadata": {
        "colab": {
          "base_uri": "https://localhost:8080/"
        },
        "id": "HJhtRZS05fvq",
        "outputId": "1e160875-8d73-4dc5-a3c6-a03a4542ca31"
      },
      "execution_count": 23,
      "outputs": [
        {
          "output_type": "execute_result",
          "data": {
            "text/plain": [
              "{'criterion': 'gini',\n",
              " 'max_depth': 8,\n",
              " 'max_features': 10,\n",
              " 'max_leaf_nodes': 30,\n",
              " 'min_samples_leaf': 2,\n",
              " 'min_samples_split': 2}"
            ]
          },
          "metadata": {},
          "execution_count": 23
        }
      ]
    },
    {
      "cell_type": "code",
      "source": [
        "best_model.best_estimator_"
      ],
      "metadata": {
        "colab": {
          "base_uri": "https://localhost:8080/"
        },
        "id": "I9bM8YC_8Yne",
        "outputId": "9d3b02d3-6f89-4600-de6b-346dba447cd3"
      },
      "execution_count": 24,
      "outputs": [
        {
          "output_type": "execute_result",
          "data": {
            "text/plain": [
              "DecisionTreeClassifier(max_depth=8, max_features=10, max_leaf_nodes=30,\n",
              "                       min_samples_leaf=2, random_state=42)"
            ]
          },
          "metadata": {},
          "execution_count": 24
        }
      ]
    },
    {
      "cell_type": "code",
      "source": [
        "best_model.fit(X_train,y_train)\n"
      ],
      "metadata": {
        "colab": {
          "base_uri": "https://localhost:8080/"
        },
        "id": "VtDprRMO00hm",
        "outputId": "063403c8-b414-46dc-e852-c2f1eb824afa"
      },
      "execution_count": 25,
      "outputs": [
        {
          "output_type": "stream",
          "name": "stdout",
          "text": [
            "Fitting 5 folds for each of 1080 candidates, totalling 5400 fits\n"
          ]
        },
        {
          "output_type": "execute_result",
          "data": {
            "text/plain": [
              "GridSearchCV(cv=5, estimator=DecisionTreeClassifier(random_state=42),\n",
              "             param_grid={'criterion': ['gini', 'entropy'],\n",
              "                         'max_depth': [6, 8, 10], 'max_features': [6, 8, 10],\n",
              "                         'max_leaf_nodes': [20, 30, 40],\n",
              "                         'min_samples_leaf': [2, 4, 6, 8, 10],\n",
              "                         'min_samples_split': [2, 4, 6, 8]},\n",
              "             verbose=1)"
            ]
          },
          "metadata": {},
          "execution_count": 25
        }
      ]
    },
    {
      "cell_type": "code",
      "source": [
        "y_predict = best_model.predict(X_train)"
      ],
      "metadata": {
        "id": "Y3r_3ZKR2Jxj"
      },
      "execution_count": 26,
      "outputs": []
    },
    {
      "cell_type": "code",
      "source": [
        "Final_result(y_train, y_predict)"
      ],
      "metadata": {
        "colab": {
          "base_uri": "https://localhost:8080/"
        },
        "id": "GEXCDaZd2QZ0",
        "outputId": "4294643e-4f6f-43db-b14e-27b864539ed0"
      },
      "execution_count": 27,
      "outputs": [
        {
          "output_type": "stream",
          "name": "stdout",
          "text": [
            "Final_Result Metrics:\n",
            "Accuracy: 0.8914285714285715\n",
            "Recall: 0.887619367461963\n",
            "F1 Score: 0.8898929652919079\n",
            "Precision: 0.8951312812574422\n"
          ]
        }
      ]
    },
    {
      "cell_type": "code",
      "source": [
        "print(classification_report(y_train, y_predict))"
      ],
      "metadata": {
        "colab": {
          "base_uri": "https://localhost:8080/"
        },
        "id": "ZYcavAGidNvr",
        "outputId": "6acd8910-2d4e-4625-880f-69687b687ac9"
      },
      "execution_count": 28,
      "outputs": [
        {
          "output_type": "stream",
          "name": "stdout",
          "text": [
            "              precision    recall  f1-score   support\n",
            "\n",
            "       False       0.87      0.94      0.90       566\n",
            "        True       0.92      0.84      0.88       484\n",
            "\n",
            "    accuracy                           0.89      1050\n",
            "   macro avg       0.90      0.89      0.89      1050\n",
            "weighted avg       0.89      0.89      0.89      1050\n",
            "\n"
          ]
        }
      ]
    },
    {
      "cell_type": "code",
      "source": [
        "plot_confusion_matrix(best_model, X_train, y_train) \n",
        "plt.show()"
      ],
      "metadata": {
        "colab": {
          "base_uri": "https://localhost:8080/",
          "height": 334
        },
        "id": "dHbaYBj86N6U",
        "outputId": "2ab7e7c4-d3d2-4713-c75b-0eb34fc7f0b8"
      },
      "execution_count": 66,
      "outputs": [
        {
          "output_type": "stream",
          "name": "stderr",
          "text": [
            "/usr/local/lib/python3.7/dist-packages/sklearn/utils/deprecation.py:87: FutureWarning: Function plot_confusion_matrix is deprecated; Function `plot_confusion_matrix` is deprecated in 1.0 and will be removed in 1.2. Use one of the class methods: ConfusionMatrixDisplay.from_predictions or ConfusionMatrixDisplay.from_estimator.\n",
            "  warnings.warn(msg, category=FutureWarning)\n"
          ]
        },
        {
          "output_type": "display_data",
          "data": {
            "text/plain": [
              "<Figure size 432x288 with 2 Axes>"
            ],
            "image/png": "[encoded data removed]"
          },
          "metadata": {
            "needs_background": "light"
          }
        }
      ]
    },
    {
      "cell_type": "code",
      "source": [
        "y_test_predict = best_model.predict(X_test)\n",
        "Final_result(y_test, y_test_predict)"
      ],
      "metadata": {
        "colab": {
          "base_uri": "https://localhost:8080/"
        },
        "id": "QlDMieJgch3_",
        "outputId": "17439382-3433-4241-eec3-6ca8b3ff591f"
      },
      "execution_count": 29,
      "outputs": [
        {
          "output_type": "stream",
          "name": "stdout",
          "text": [
            "Final_Result Metrics:\n",
            "Accuracy: 0.8311111111111111\n",
            "Recall: 0.8271604938271605\n",
            "F1 Score: 0.8288254019099481\n",
            "Precision: 0.8326628797832987\n"
          ]
        }
      ]
    },
    {
      "cell_type": "code",
      "source": [
        "plot_confusion_matrix(best_model, X_test, y_test) \n",
        "plt.show()"
      ],
      "metadata": {
        "colab": {
          "base_uri": "https://localhost:8080/",
          "height": 334
        },
        "id": "rqjrLpxTrDlk",
        "outputId": "661dc0f9-a627-4613-8c4d-31a0c74c1553"
      },
      "execution_count": 30,
      "outputs": [
        {
          "output_type": "stream",
          "name": "stderr",
          "text": [
            "/usr/local/lib/python3.7/dist-packages/sklearn/utils/deprecation.py:87: FutureWarning: Function plot_confusion_matrix is deprecated; Function `plot_confusion_matrix` is deprecated in 1.0 and will be removed in 1.2. Use one of the class methods: ConfusionMatrixDisplay.from_predictions or ConfusionMatrixDisplay.from_estimator.\n",
            "  warnings.warn(msg, category=FutureWarning)\n"
          ]
        },
        {
          "output_type": "display_data",
          "data": {
            "text/plain": [
              "<Figure size 432x288 with 2 Axes>"
            ],
            "image/png": "[encoded data removed]"
          },
          "metadata": {
            "needs_background": "light"
          }
        }
      ]
    },
    {
      "cell_type": "code",
      "source": [
        "print(classification_report(y_test, y_test_predict))"
      ],
      "metadata": {
        "colab": {
          "base_uri": "https://localhost:8080/"
        },
        "id": "aguoGp3hCDKN",
        "outputId": "c89a99f0-7fcd-4a74-e671-8a90b2d83ffd"
      },
      "execution_count": 31,
      "outputs": [
        {
          "output_type": "stream",
          "name": "stdout",
          "text": [
            "              precision    recall  f1-score   support\n",
            "\n",
            "       False       0.82      0.88      0.85       243\n",
            "        True       0.84      0.78      0.81       207\n",
            "\n",
            "    accuracy                           0.83       450\n",
            "   macro avg       0.83      0.83      0.83       450\n",
            "weighted avg       0.83      0.83      0.83       450\n",
            "\n"
          ]
        }
      ]
    },
    {
      "cell_type": "markdown",
      "source": [
        "# Random Forest Classifier"
      ],
      "metadata": {
        "id": "oK8-UIetFVQY"
      }
    },
    {
      "cell_type": "code",
      "source": [
        "model = RandomForestClassifier()"
      ],
      "metadata": {
        "id": "mqbNLxgiDI-N"
      },
      "execution_count": 32,
      "outputs": []
    },
    {
      "cell_type": "code",
      "source": [
        "model.fit(X_train,y_train)"
      ],
      "metadata": {
        "colab": {
          "base_uri": "https://localhost:8080/"
        },
        "id": "4V0KWCbWFdGl",
        "outputId": "ba987020-670a-476a-89d5-76133eaad044"
      },
      "execution_count": 33,
      "outputs": [
        {
          "output_type": "execute_result",
          "data": {
            "text/plain": [
              "RandomForestClassifier()"
            ]
          },
          "metadata": {},
          "execution_count": 33
        }
      ]
    },
    {
      "cell_type": "code",
      "source": [
        "model.score(X_train,y_train)"
      ],
      "metadata": {
        "colab": {
          "base_uri": "https://localhost:8080/"
        },
        "id": "lPEk9tTYFfFF",
        "outputId": "8c3ccedb-617b-4067-ec0e-cbca603c863f"
      },
      "execution_count": 34,
      "outputs": [
        {
          "output_type": "execute_result",
          "data": {
            "text/plain": [
              "1.0"
            ]
          },
          "metadata": {},
          "execution_count": 34
        }
      ]
    },
    {
      "cell_type": "code",
      "source": [
        "grid={\"n_estimators\":[100,200,300],\"max_features\":[4,5,6],\"max_depth\":[6,7,8], \"min_samples_split\":[5,10,20,30]} \n",
        "RF_best_model=GridSearchCV(estimator=model,cv=5,param_grid=grid)\n",
        "RF_best_model.fit(X_train,y_train)"
      ],
      "metadata": {
        "colab": {
          "base_uri": "https://localhost:8080/"
        },
        "id": "ATmR7M8VF7d0",
        "outputId": "e748b6fb-9876-4a56-9069-281e6508abb1"
      },
      "execution_count": 35,
      "outputs": [
        {
          "output_type": "execute_result",
          "data": {
            "text/plain": [
              "GridSearchCV(cv=5, estimator=RandomForestClassifier(),\n",
              "             param_grid={'max_depth': [6, 7, 8], 'max_features': [4, 5, 6],\n",
              "                         'min_samples_split': [5, 10, 20, 30],\n",
              "                         'n_estimators': [100, 200, 300]})"
            ]
          },
          "metadata": {},
          "execution_count": 35
        }
      ]
    },
    {
      "cell_type": "code",
      "source": [
        "print(RF_best_model.best_params_)\n",
        "print(RF_best_model.best_estimator_)"
      ],
      "metadata": {
        "colab": {
          "base_uri": "https://localhost:8080/"
        },
        "id": "60cAn705HufA",
        "outputId": "97f2fda9-3f7b-42cd-d737-b60f6328e53c"
      },
      "execution_count": 36,
      "outputs": [
        {
          "output_type": "stream",
          "name": "stdout",
          "text": [
            "{'max_depth': 8, 'max_features': 6, 'min_samples_split': 5, 'n_estimators': 200}\n",
            "RandomForestClassifier(max_depth=8, max_features=6, min_samples_split=5,\n",
            "                       n_estimators=200)\n"
          ]
        }
      ]
    },
    {
      "cell_type": "code",
      "source": [
        "RF_best_model.score(X_train,y_train)"
      ],
      "metadata": {
        "colab": {
          "base_uri": "https://localhost:8080/"
        },
        "id": "ww4kIyFLH4Jo",
        "outputId": "2fb38975-3fe1-4cbe-9a7a-9c4cbb9c3360"
      },
      "execution_count": 37,
      "outputs": [
        {
          "output_type": "execute_result",
          "data": {
            "text/plain": [
              "0.98"
            ]
          },
          "metadata": {},
          "execution_count": 37
        }
      ]
    },
    {
      "cell_type": "code",
      "source": [
        "RF_y_predict = RF_best_model.predict(X_train)"
      ],
      "metadata": {
        "id": "p_LSUZ1AdmL3"
      },
      "execution_count": 38,
      "outputs": []
    },
    {
      "cell_type": "code",
      "source": [
        "Final_result(y_train, RF_y_predict)"
      ],
      "metadata": {
        "colab": {
          "base_uri": "https://localhost:8080/"
        },
        "id": "ggKHLLKYd5dv",
        "outputId": "e41be0c2-de90-47cf-be23-f1aa80e39990"
      },
      "execution_count": 39,
      "outputs": [
        {
          "output_type": "stream",
          "name": "stdout",
          "text": [
            "Final_Result Metrics:\n",
            "Accuracy: 0.98\n",
            "Recall: 0.9787547819992407\n",
            "F1 Score: 0.9798278459890347\n",
            "Precision: 0.9813111721941069\n"
          ]
        }
      ]
    },
    {
      "cell_type": "code",
      "source": [
        "print(classification_report(y_train, RF_y_predict))"
      ],
      "metadata": {
        "colab": {
          "base_uri": "https://localhost:8080/"
        },
        "id": "ejCNI_PveMMS",
        "outputId": "ba1b29bc-a54a-4299-ca9a-0c1f5ddaa5db"
      },
      "execution_count": 40,
      "outputs": [
        {
          "output_type": "stream",
          "name": "stdout",
          "text": [
            "              precision    recall  f1-score   support\n",
            "\n",
            "       False       0.97      0.99      0.98       566\n",
            "        True       0.99      0.96      0.98       484\n",
            "\n",
            "    accuracy                           0.98      1050\n",
            "   macro avg       0.98      0.98      0.98      1050\n",
            "weighted avg       0.98      0.98      0.98      1050\n",
            "\n"
          ]
        }
      ]
    },
    {
      "cell_type": "code",
      "source": [
        "plot_confusion_matrix(RF_best_model, X_train, y_train) \n",
        "plt.show()"
      ],
      "metadata": {
        "colab": {
          "base_uri": "https://localhost:8080/",
          "height": 334
        },
        "id": "cLCQuR6A6ei8",
        "outputId": "f6a62b2e-bd5c-49f7-92cd-a5aad6d87ace"
      },
      "execution_count": 67,
      "outputs": [
        {
          "output_type": "stream",
          "name": "stderr",
          "text": [
            "/usr/local/lib/python3.7/dist-packages/sklearn/utils/deprecation.py:87: FutureWarning: Function plot_confusion_matrix is deprecated; Function `plot_confusion_matrix` is deprecated in 1.0 and will be removed in 1.2. Use one of the class methods: ConfusionMatrixDisplay.from_predictions or ConfusionMatrixDisplay.from_estimator.\n",
            "  warnings.warn(msg, category=FutureWarning)\n"
          ]
        },
        {
          "output_type": "display_data",
          "data": {
            "text/plain": [
              "<Figure size 432x288 with 2 Axes>"
            ],
            "image/png": "[encoded data removed]"
          },
          "metadata": {
            "needs_background": "light"
          }
        }
      ]
    },
    {
      "cell_type": "code",
      "source": [
        "RF_y_test_predict = RF_best_model.predict(X_test)\n",
        "Final_result(y_test, RF_y_test_predict)"
      ],
      "metadata": {
        "colab": {
          "base_uri": "https://localhost:8080/"
        },
        "id": "NwpE_SOweBJL",
        "outputId": "ac9e81b0-5020-4e70-f357-801f2971c824"
      },
      "execution_count": 41,
      "outputs": [
        {
          "output_type": "stream",
          "name": "stdout",
          "text": [
            "Final_Result Metrics:\n",
            "Accuracy: 0.8733333333333333\n",
            "Recall: 0.8694757559491859\n",
            "F1 Score: 0.8715515471403319\n",
            "Precision: 0.8762145748987854\n"
          ]
        }
      ]
    },
    {
      "cell_type": "code",
      "source": [
        "plot_confusion_matrix(RF_best_model, X_test, y_test) \n",
        "plt.show()"
      ],
      "metadata": {
        "colab": {
          "base_uri": "https://localhost:8080/",
          "height": 334
        },
        "id": "FF_U9dlNrTn9",
        "outputId": "983edfcc-6a18-49ed-f478-de0f59a9041c"
      },
      "execution_count": 42,
      "outputs": [
        {
          "output_type": "stream",
          "name": "stderr",
          "text": [
            "/usr/local/lib/python3.7/dist-packages/sklearn/utils/deprecation.py:87: FutureWarning: Function plot_confusion_matrix is deprecated; Function `plot_confusion_matrix` is deprecated in 1.0 and will be removed in 1.2. Use one of the class methods: ConfusionMatrixDisplay.from_predictions or ConfusionMatrixDisplay.from_estimator.\n",
            "  warnings.warn(msg, category=FutureWarning)\n"
          ]
        },
        {
          "output_type": "display_data",
          "data": {
            "text/plain": [
              "<Figure size 432x288 with 2 Axes>"
            ],
            "image/png": "[encoded data removed]"
          },
          "metadata": {
            "needs_background": "light"
          }
        }
      ]
    },
    {
      "cell_type": "code",
      "source": [
        "print(classification_report(y_test, RF_y_test_predict))"
      ],
      "metadata": {
        "colab": {
          "base_uri": "https://localhost:8080/"
        },
        "id": "Pou5DZX1ePjD",
        "outputId": "a7d1a6c3-3b7e-46f8-eb93-d503f3c1b387"
      },
      "execution_count": 43,
      "outputs": [
        {
          "output_type": "stream",
          "name": "stdout",
          "text": [
            "              precision    recall  f1-score   support\n",
            "\n",
            "       False       0.86      0.92      0.89       243\n",
            "        True       0.89      0.82      0.86       207\n",
            "\n",
            "    accuracy                           0.87       450\n",
            "   macro avg       0.88      0.87      0.87       450\n",
            "weighted avg       0.87      0.87      0.87       450\n",
            "\n"
          ]
        }
      ]
    },
    {
      "cell_type": "markdown",
      "source": [
        "# KNN (K-Nearest Neighbors)"
      ],
      "metadata": {
        "id": "X11z5OP6thLK"
      }
    },
    {
      "cell_type": "code",
      "source": [
        "scaler = StandardScaler()\n",
        "X_train_scale = scaler.fit_transform(X_train)\n",
        "X_test_scale = scaler.transform(X_test)\n",
        "knn_model= KNeighborsClassifier(n_neighbors=5)\n"
      ],
      "metadata": {
        "id": "z8XIw0wKtgxq"
      },
      "execution_count": 44,
      "outputs": []
    },
    {
      "cell_type": "code",
      "source": [
        "knn_model.fit(X_train_scale,y_train)"
      ],
      "metadata": {
        "colab": {
          "base_uri": "https://localhost:8080/"
        },
        "id": "XyK6QQkxuS_T",
        "outputId": "39573a6c-4993-4b1c-eacb-3c18fe2eda3f"
      },
      "execution_count": 45,
      "outputs": [
        {
          "output_type": "execute_result",
          "data": {
            "text/plain": [
              "KNeighborsClassifier()"
            ]
          },
          "metadata": {},
          "execution_count": 45
        }
      ]
    },
    {
      "cell_type": "code",
      "source": [
        "knn_model.score(X_train_scale,y_train)"
      ],
      "metadata": {
        "colab": {
          "base_uri": "https://localhost:8080/"
        },
        "id": "GNIiQ0uOuWXq",
        "outputId": "b27270c3-366f-4ba0-f258-687f6a84fba2"
      },
      "execution_count": 46,
      "outputs": [
        {
          "output_type": "execute_result",
          "data": {
            "text/plain": [
              "0.8342857142857143"
            ]
          },
          "metadata": {},
          "execution_count": 46
        }
      ]
    },
    {
      "cell_type": "code",
      "source": [
        "estimator_KNN =KNeighborsClassifier(algorithm='auto')\n",
        "Param_KNN ={'n_neighbors':(1,10,1),'leaf_size': (20,40,1),'p': (1,2),'weights': ('uniform', 'distance'),'metric': ('minkowski', 'chebyshev')}\n",
        "Grid_search_KNN =GridSearchCV(estimator=estimator_KNN,param_grid=Param_KNN,scoring = 'accuracy',n_jobs = -1,cv = 5)"
      ],
      "metadata": {
        "id": "axgr5xTzzdkf"
      },
      "execution_count": 47,
      "outputs": []
    },
    {
      "cell_type": "code",
      "source": [
        "Grid_search_KNN.fit(X_train_scale,y_train)"
      ],
      "metadata": {
        "colab": {
          "base_uri": "https://localhost:8080/"
        },
        "id": "Uf-GUg450XUK",
        "outputId": "a6c65562-9e70-4eee-bebd-0c172afb45bb"
      },
      "execution_count": 48,
      "outputs": [
        {
          "output_type": "execute_result",
          "data": {
            "text/plain": [
              "GridSearchCV(cv=5, estimator=KNeighborsClassifier(), n_jobs=-1,\n",
              "             param_grid={'leaf_size': (20, 40, 1),\n",
              "                         'metric': ('minkowski', 'chebyshev'),\n",
              "                         'n_neighbors': (1, 10, 1), 'p': (1, 2),\n",
              "                         'weights': ('uniform', 'distance')},\n",
              "             scoring='accuracy')"
            ]
          },
          "metadata": {},
          "execution_count": 48
        }
      ]
    },
    {
      "cell_type": "code",
      "source": [
        "y_pred_train_knn = Grid_search_KNN.predict(X_train_scale)"
      ],
      "metadata": {
        "id": "kusnAIVeuZDs"
      },
      "execution_count": 49,
      "outputs": []
    },
    {
      "cell_type": "code",
      "source": [
        "Final_result(y_train, y_pred_train_knn)"
      ],
      "metadata": {
        "colab": {
          "base_uri": "https://localhost:8080/"
        },
        "id": "aHUtboVdugf7",
        "outputId": "bc5001f5-42f3-4865-8440-8f4eb6739c93"
      },
      "execution_count": 50,
      "outputs": [
        {
          "output_type": "stream",
          "name": "stdout",
          "text": [
            "Final_Result Metrics:\n",
            "Accuracy: 0.819047619047619\n",
            "Recall: 0.8104539613935695\n",
            "F1 Score: 0.8134426057813153\n",
            "Precision: 0.8325473911411412\n"
          ]
        }
      ]
    },
    {
      "cell_type": "code",
      "source": [
        "print(classification_report(y_train, y_pred_train_knn))"
      ],
      "metadata": {
        "colab": {
          "base_uri": "https://localhost:8080/"
        },
        "id": "wgiIPiMxugoR",
        "outputId": "6fba19e9-9373-4b3f-a90b-4a58ffefdf22"
      },
      "execution_count": 51,
      "outputs": [
        {
          "output_type": "stream",
          "name": "stdout",
          "text": [
            "              precision    recall  f1-score   support\n",
            "\n",
            "       False       0.78      0.92      0.85       566\n",
            "        True       0.88      0.70      0.78       484\n",
            "\n",
            "    accuracy                           0.82      1050\n",
            "   macro avg       0.83      0.81      0.81      1050\n",
            "weighted avg       0.83      0.82      0.82      1050\n",
            "\n"
          ]
        }
      ]
    },
    {
      "cell_type": "code",
      "source": [
        "plot_confusion_matrix(Grid_search_KNN, X_train, y_train) \n",
        "plt.show()"
      ],
      "metadata": {
        "colab": {
          "base_uri": "https://localhost:8080/",
          "height": 368
        },
        "id": "6CCOjr4H6lR0",
        "outputId": "89de40a2-04da-4e55-95bc-bacec58de55d"
      },
      "execution_count": 68,
      "outputs": [
        {
          "output_type": "stream",
          "name": "stderr",
          "text": [
            "/usr/local/lib/python3.7/dist-packages/sklearn/utils/deprecation.py:87: FutureWarning: Function plot_confusion_matrix is deprecated; Function `plot_confusion_matrix` is deprecated in 1.0 and will be removed in 1.2. Use one of the class methods: ConfusionMatrixDisplay.from_predictions or ConfusionMatrixDisplay.from_estimator.\n",
            "  warnings.warn(msg, category=FutureWarning)\n",
            "/usr/local/lib/python3.7/dist-packages/sklearn/base.py:444: UserWarning: X has feature names, but KNeighborsClassifier was fitted without feature names\n",
            "  f\"X has feature names, but {self.__class__.__name__} was fitted without\"\n"
          ]
        },
        {
          "output_type": "display_data",
          "data": {
            "text/plain": [
              "<Figure size 432x288 with 2 Axes>"
            ],
            "image/png": "[encoded data removed]"
          },
          "metadata": {
            "needs_background": "light"
          }
        }
      ]
    },
    {
      "cell_type": "code",
      "source": [
        "y_pred_test_knn = Grid_search_KNN.predict(X_test_scale)"
      ],
      "metadata": {
        "id": "9RMptFJwuuAc"
      },
      "execution_count": 52,
      "outputs": []
    },
    {
      "cell_type": "code",
      "source": [
        "Final_result(y_test, y_pred_test_knn)"
      ],
      "metadata": {
        "colab": {
          "base_uri": "https://localhost:8080/"
        },
        "id": "K8wYqbyQuxi7",
        "outputId": "759be063-b83a-4da3-8887-3685458ff24c"
      },
      "execution_count": 53,
      "outputs": [
        {
          "output_type": "stream",
          "name": "stdout",
          "text": [
            "Final_Result Metrics:\n",
            "Accuracy: 0.7977777777777778\n",
            "Recall: 0.7898550724637681\n",
            "F1 Score: 0.7923122568734753\n",
            "Precision: 0.8063025210084034\n"
          ]
        }
      ]
    },
    {
      "cell_type": "code",
      "source": [
        "plot_confusion_matrix(Grid_search_KNN, X_test, y_test) \n",
        "plt.show()"
      ],
      "metadata": {
        "colab": {
          "base_uri": "https://localhost:8080/",
          "height": 368
        },
        "id": "8frd3B8Js37l",
        "outputId": "c1556eeb-8b96-4cf5-9567-123c28968e37"
      },
      "execution_count": 54,
      "outputs": [
        {
          "output_type": "stream",
          "name": "stderr",
          "text": [
            "/usr/local/lib/python3.7/dist-packages/sklearn/utils/deprecation.py:87: FutureWarning: Function plot_confusion_matrix is deprecated; Function `plot_confusion_matrix` is deprecated in 1.0 and will be removed in 1.2. Use one of the class methods: ConfusionMatrixDisplay.from_predictions or ConfusionMatrixDisplay.from_estimator.\n",
            "  warnings.warn(msg, category=FutureWarning)\n",
            "/usr/local/lib/python3.7/dist-packages/sklearn/base.py:444: UserWarning: X has feature names, but KNeighborsClassifier was fitted without feature names\n",
            "  f\"X has feature names, but {self.__class__.__name__} was fitted without\"\n"
          ]
        },
        {
          "output_type": "display_data",
          "data": {
            "text/plain": [
              "<Figure size 432x288 with 2 Axes>"
            ],
            "image/png": "[encoded data removed]"
          },
          "metadata": {
            "needs_background": "light"
          }
        }
      ]
    },
    {
      "cell_type": "code",
      "source": [
        "print(classification_report(y_test, y_pred_test_knn))"
      ],
      "metadata": {
        "colab": {
          "base_uri": "https://localhost:8080/"
        },
        "id": "8MVx04NAuw6t",
        "outputId": "89c73e26-1414-4870-dda7-0964c62adda9"
      },
      "execution_count": 55,
      "outputs": [
        {
          "output_type": "stream",
          "name": "stdout",
          "text": [
            "              precision    recall  f1-score   support\n",
            "\n",
            "       False       0.77      0.89      0.83       243\n",
            "        True       0.84      0.69      0.76       207\n",
            "\n",
            "    accuracy                           0.80       450\n",
            "   macro avg       0.81      0.79      0.79       450\n",
            "weighted avg       0.80      0.80      0.80       450\n",
            "\n"
          ]
        }
      ]
    },
    {
      "cell_type": "markdown",
      "source": [
        "# Support Vector Machine"
      ],
      "metadata": {
        "id": "XFbK2rrNxv4I"
      }
    },
    {
      "cell_type": "code",
      "source": [
        "clf = svm.SVC(kernel='poly', degree=8)\n",
        "clf.fit(X_train_scale, y_train)"
      ],
      "metadata": {
        "colab": {
          "base_uri": "https://localhost:8080/"
        },
        "id": "ENpsCS0Uxy8g",
        "outputId": "3f3e2a5e-4e03-448f-dc21-7a5fdbb868ab"
      },
      "execution_count": 56,
      "outputs": [
        {
          "output_type": "execute_result",
          "data": {
            "text/plain": [
              "SVC(degree=8, kernel='poly')"
            ]
          },
          "metadata": {},
          "execution_count": 56
        }
      ]
    },
    {
      "cell_type": "code",
      "source": [
        "clf.score(X_train_scale,y_train)"
      ],
      "metadata": {
        "colab": {
          "base_uri": "https://localhost:8080/"
        },
        "id": "SG5cktM9x4fR",
        "outputId": "e35fd665-5056-4dc3-d9ff-468f1c19fed0"
      },
      "execution_count": 57,
      "outputs": [
        {
          "output_type": "execute_result",
          "data": {
            "text/plain": [
              "0.7714285714285715"
            ]
          },
          "metadata": {},
          "execution_count": 57
        }
      ]
    },
    {
      "cell_type": "code",
      "source": [
        "y_pred_train_SVM = clf.predict(X_train_scale)\n",
        "print(classification_report(y_train, y_pred_train_SVM))"
      ],
      "metadata": {
        "colab": {
          "base_uri": "https://localhost:8080/"
        },
        "id": "qOhJiteFx7we",
        "outputId": "46666316-d615-4245-a2d2-043cd9f619c8"
      },
      "execution_count": 58,
      "outputs": [
        {
          "output_type": "stream",
          "name": "stdout",
          "text": [
            "              precision    recall  f1-score   support\n",
            "\n",
            "       False       0.71      0.99      0.82       566\n",
            "        True       0.98      0.52      0.68       484\n",
            "\n",
            "    accuracy                           0.77      1050\n",
            "   macro avg       0.84      0.75      0.75      1050\n",
            "weighted avg       0.83      0.77      0.76      1050\n",
            "\n"
          ]
        }
      ]
    },
    {
      "cell_type": "code",
      "source": [
        "plot_confusion_matrix(clf, X_train, y_train) \n",
        "plt.show()"
      ],
      "metadata": {
        "colab": {
          "base_uri": "https://localhost:8080/",
          "height": 368
        },
        "id": "wAcFin9M6rWM",
        "outputId": "4867622b-5cc5-43ef-83a1-14d09d812ea4"
      },
      "execution_count": 69,
      "outputs": [
        {
          "output_type": "stream",
          "name": "stderr",
          "text": [
            "/usr/local/lib/python3.7/dist-packages/sklearn/utils/deprecation.py:87: FutureWarning: Function plot_confusion_matrix is deprecated; Function `plot_confusion_matrix` is deprecated in 1.0 and will be removed in 1.2. Use one of the class methods: ConfusionMatrixDisplay.from_predictions or ConfusionMatrixDisplay.from_estimator.\n",
            "  warnings.warn(msg, category=FutureWarning)\n",
            "/usr/local/lib/python3.7/dist-packages/sklearn/base.py:444: UserWarning: X has feature names, but SVC was fitted without feature names\n",
            "  f\"X has feature names, but {self.__class__.__name__} was fitted without\"\n"
          ]
        },
        {
          "output_type": "display_data",
          "data": {
            "text/plain": [
              "<Figure size 432x288 with 2 Axes>"
            ],
            "image/png": "[encoded data removed]"
          },
          "metadata": {
            "needs_background": "light"
          }
        }
      ]
    },
    {
      "cell_type": "code",
      "source": [
        "Final_result(y_train, y_pred_train_SVM)"
      ],
      "metadata": {
        "colab": {
          "base_uri": "https://localhost:8080/"
        },
        "id": "yinT9GPeyKcu",
        "outputId": "448593ae-6abd-4b90-e915-4e00ab36926f"
      },
      "execution_count": 59,
      "outputs": [
        {
          "output_type": "stream",
          "name": "stdout",
          "text": [
            "Final_Result Metrics:\n",
            "Accuracy: 0.7714285714285715\n",
            "Recall: 0.7529641094530268\n",
            "F1 Score: 0.7496025437201908\n",
            "Precision: 0.8409260862720402\n"
          ]
        }
      ]
    },
    {
      "cell_type": "code",
      "source": [
        "plot_confusion_matrix(clf, X_test, y_test) \n",
        "plt.show()"
      ],
      "metadata": {
        "id": "eHGNkDPQs86M",
        "outputId": "3268f02a-1a66-41c0-8259-6a3af1a55f6d",
        "colab": {
          "base_uri": "https://localhost:8080/",
          "height": 368
        }
      },
      "execution_count": 60,
      "outputs": [
        {
          "output_type": "stream",
          "name": "stderr",
          "text": [
            "/usr/local/lib/python3.7/dist-packages/sklearn/utils/deprecation.py:87: FutureWarning: Function plot_confusion_matrix is deprecated; Function `plot_confusion_matrix` is deprecated in 1.0 and will be removed in 1.2. Use one of the class methods: ConfusionMatrixDisplay.from_predictions or ConfusionMatrixDisplay.from_estimator.\n",
            "  warnings.warn(msg, category=FutureWarning)\n",
            "/usr/local/lib/python3.7/dist-packages/sklearn/base.py:444: UserWarning: X has feature names, but SVC was fitted without feature names\n",
            "  f\"X has feature names, but {self.__class__.__name__} was fitted without\"\n"
          ]
        },
        {
          "output_type": "display_data",
          "data": {
            "text/plain": [
              "<Figure size 432x288 with 2 Axes>"
            ],
            "image/png": "[encoded data removed]"
          },
          "metadata": {
            "needs_background": "light"
          }
        }
      ]
    },
    {
      "cell_type": "code",
      "source": [
        "y_pred_test_SVM = clf.predict(X_test_scale)\n",
        "print(classification_report(y_test, y_pred_test_SVM))"
      ],
      "metadata": {
        "colab": {
          "base_uri": "https://localhost:8080/"
        },
        "id": "aUPzRPnNyHFW",
        "outputId": "32431e1c-91f8-4874-ceb8-fb4327a408ed"
      },
      "execution_count": 61,
      "outputs": [
        {
          "output_type": "stream",
          "name": "stdout",
          "text": [
            "              precision    recall  f1-score   support\n",
            "\n",
            "       False       0.65      0.94      0.77       243\n",
            "        True       0.85      0.40      0.54       207\n",
            "\n",
            "    accuracy                           0.69       450\n",
            "   macro avg       0.75      0.67      0.66       450\n",
            "weighted avg       0.74      0.69      0.66       450\n",
            "\n"
          ]
        }
      ]
    },
    {
      "cell_type": "code",
      "source": [
        "Final_result(y_test, y_pred_test_SVM)"
      ],
      "metadata": {
        "colab": {
          "base_uri": "https://localhost:8080/"
        },
        "id": "2WMctNP4ySNu",
        "outputId": "b4ee309c-cc82-4da0-d6b5-1165589a2f4b"
      },
      "execution_count": 62,
      "outputs": [
        {
          "output_type": "stream",
          "name": "stdout",
          "text": [
            "Final_Result Metrics:\n",
            "Accuracy: 0.6911111111111111\n",
            "Recall: 0.6696188942565754\n",
            "F1 Score: 0.6553244248519079\n",
            "Precision: 0.7473330241187384\n"
          ]
        }
      ]
    },
    {
      "cell_type": "markdown",
      "source": [
        "# Test Data"
      ],
      "metadata": {
        "id": "LVO_Vfw5BlXn"
      }
    },
    {
      "cell_type": "code",
      "source": [
        "df_test.fillna(df.mean(),inplace=True)\n",
        "X_test_Feature= df_test.drop(columns='Class')\n",
        "#Grid_search_KNN \n",
        "y_test_predict = Grid_search_KNN.predict(X_test_Feature)\n",
        "df_test['Class']=y_test_predict\n",
        "df_test"
      ],
      "metadata": {
        "id": "KxIGzt2CH4Qn",
        "colab": {
          "base_uri": "https://localhost:8080/",
          "height": 458
        },
        "outputId": "23fd2473-b0f2-45e5-db50-ff03eb493c41"
      },
      "execution_count": 63,
      "outputs": [
        {
          "output_type": "stream",
          "name": "stderr",
          "text": [
            "/usr/local/lib/python3.7/dist-packages/sklearn/base.py:444: UserWarning: X has feature names, but KNeighborsClassifier was fitted without feature names\n",
            "  f\"X has feature names, but {self.__class__.__name__} was fitted without\"\n"
          ]
        },
        {
          "output_type": "execute_result",
          "data": {
            "text/plain": [
              "        F1     F2     F3     F4     F5      F6    F7   F8     F9     F10  \\\n",
              "0     37.7  33.15   9.26   3.88   5.91  -12.42 -0.77  165   3.32  334.56   \n",
              "1     17.7  24.30   6.58   3.40  10.47  -57.42 -0.77   20   3.22  224.56   \n",
              "2     37.7  17.55  10.16  -1.94   6.90   92.58 -0.84  215   4.71   94.56   \n",
              "3     11.7   2.61  -8.28   8.96  23.22  161.58  1.69    6   8.54   64.56   \n",
              "4      7.7   5.55   1.52   8.50  21.66   95.58  2.41   22  10.74  128.56   \n",
              "...    ...    ...    ...    ...    ...     ...   ...  ...    ...     ...   \n",
              "1495  27.7  20.40  -0.82   5.50   8.25  392.58 -2.05    5   6.63  124.56   \n",
              "1496  17.7  32.70   7.16   3.04  11.04   92.58 -1.71  170   3.74  414.56   \n",
              "1497  15.7   0.45  -2.90  16.96  21.33  128.58  1.84   58   9.74  112.56   \n",
              "1498   7.7   1.74   1.60  11.24  21.39  119.58 -0.32   18   7.41   90.56   \n",
              "1499  17.7  46.05   8.66   3.32  11.19 -117.42  0.58  140   6.22  274.56   \n",
              "\n",
              "       F11    F12  F13    F14        F15  Class  \n",
              "0     4.42  18.75   10   7.78  10.853013   True  \n",
              "1     0.28  15.30   10   8.13  10.853013  False  \n",
              "2     6.98  17.70   10  10.08  13.270000  False  \n",
              "3    -6.52   1.32    1   1.80  11.730000  False  \n",
              "4    -3.84   2.76    1   2.22  12.310000  False  \n",
              "...    ...    ...  ...    ...        ...    ...  \n",
              "1495  4.58  19.50   10   5.88  10.853013  False  \n",
              "1496  1.02  16.50   10   9.33  10.853013  False  \n",
              "1497 -2.84   2.07    1   2.18  11.820000  False  \n",
              "1498 -3.10   2.67    1   1.88  10.853013  False  \n",
              "1499  3.90  23.70   10   6.33   9.900000  False  \n",
              "\n",
              "[1500 rows x 16 columns]"
            ],
            "text/html": [
              "\n",
              "  <div id=\"df-ff696ce1-1f5b-4056-ab84-9c4b4b6d0257\">\n",
              "    <div class=\"colab-df-container\">\n",
              "      <div>\n",
              "<style scoped>\n",
              "    .dataframe tbody tr th:only-of-type {\n",
              "        vertical-align: middle;\n",
              "    }\n",
              "\n",
              "    .dataframe tbody tr th {\n",
              "        vertical-align: top;\n",
              "    }\n",
              "\n",
              "    .dataframe thead th {\n",
              "        text-align: right;\n",
              "    }\n",
              "</style>\n",
              "<table border=\"1\" class=\"dataframe\">\n",
              "  <thead>\n",
              "    <tr style=\"text-align: right;\">\n",
              "      <th></th>\n",
              "      <th>F1</th>\n",
              "      <th>F2</th>\n",
              "      <th>F3</th>\n",
              "      <th>F4</th>\n",
              "      <th>F5</th>\n",
              "      <th>F6</th>\n",
              "      <th>F7</th>\n",
              "      <th>F8</th>\n",
              "      <th>F9</th>\n",
              "      <th>F10</th>\n",
              "      <th>F11</th>\n",
              "      <th>F12</th>\n",
              "      <th>F13</th>\n",
              "      <th>F14</th>\n",
              "      <th>F15</th>\n",
              "      <th>Class</th>\n",
              "    </tr>\n",
              "  </thead>\n",
              "  <tbody>\n",
              "    <tr>\n",
              "      <th>0</th>\n",
              "      <td>37.7</td>\n",
              "      <td>33.15</td>\n",
              "      <td>9.26</td>\n",
              "      <td>3.88</td>\n",
              "      <td>5.91</td>\n",
              "      <td>-12.42</td>\n",
              "      <td>-0.77</td>\n",
              "      <td>165</td>\n",
              "      <td>3.32</td>\n",
              "      <td>334.56</td>\n",
              "      <td>4.42</td>\n",
              "      <td>18.75</td>\n",
              "      <td>10</td>\n",
              "      <td>7.78</td>\n",
              "      <td>10.853013</td>\n",
              "      <td>True</td>\n",
              "    </tr>\n",
              "    <tr>\n",
              "      <th>1</th>\n",
              "      <td>17.7</td>\n",
              "      <td>24.30</td>\n",
              "      <td>6.58</td>\n",
              "      <td>3.40</td>\n",
              "      <td>10.47</td>\n",
              "      <td>-57.42</td>\n",
              "      <td>-0.77</td>\n",
              "      <td>20</td>\n",
              "      <td>3.22</td>\n",
              "      <td>224.56</td>\n",
              "      <td>0.28</td>\n",
              "      <td>15.30</td>\n",
              "      <td>10</td>\n",
              "      <td>8.13</td>\n",
              "      <td>10.853013</td>\n",
              "      <td>False</td>\n",
              "    </tr>\n",
              "    <tr>\n",
              "      <th>2</th>\n",
              "      <td>37.7</td>\n",
              "      <td>17.55</td>\n",
              "      <td>10.16</td>\n",
              "      <td>-1.94</td>\n",
              "      <td>6.90</td>\n",
              "      <td>92.58</td>\n",
              "      <td>-0.84</td>\n",
              "      <td>215</td>\n",
              "      <td>4.71</td>\n",
              "      <td>94.56</td>\n",
              "      <td>6.98</td>\n",
              "      <td>17.70</td>\n",
              "      <td>10</td>\n",
              "      <td>10.08</td>\n",
              "      <td>13.270000</td>\n",
              "      <td>False</td>\n",
              "    </tr>\n",
              "    <tr>\n",
              "      <th>3</th>\n",
              "      <td>11.7</td>\n",
              "      <td>2.61</td>\n",
              "      <td>-8.28</td>\n",
              "      <td>8.96</td>\n",
              "      <td>23.22</td>\n",
              "      <td>161.58</td>\n",
              "      <td>1.69</td>\n",
              "      <td>6</td>\n",
              "      <td>8.54</td>\n",
              "      <td>64.56</td>\n",
              "      <td>-6.52</td>\n",
              "      <td>1.32</td>\n",
              "      <td>1</td>\n",
              "      <td>1.80</td>\n",
              "      <td>11.730000</td>\n",
              "      <td>False</td>\n",
              "    </tr>\n",
              "    <tr>\n",
              "      <th>4</th>\n",
              "      <td>7.7</td>\n",
              "      <td>5.55</td>\n",
              "      <td>1.52</td>\n",
              "      <td>8.50</td>\n",
              "      <td>21.66</td>\n",
              "      <td>95.58</td>\n",
              "      <td>2.41</td>\n",
              "      <td>22</td>\n",
              "      <td>10.74</td>\n",
              "      <td>128.56</td>\n",
              "      <td>-3.84</td>\n",
              "      <td>2.76</td>\n",
              "      <td>1</td>\n",
              "      <td>2.22</td>\n",
              "      <td>12.310000</td>\n",
              "      <td>False</td>\n",
              "    </tr>\n",
              "    <tr>\n",
              "      <th>...</th>\n",
              "      <td>...</td>\n",
              "      <td>...</td>\n",
              "      <td>...</td>\n",
              "      <td>...</td>\n",
              "      <td>...</td>\n",
              "      <td>...</td>\n",
              "      <td>...</td>\n",
              "      <td>...</td>\n",
              "      <td>...</td>\n",
              "      <td>...</td>\n",
              "      <td>...</td>\n",
              "      <td>...</td>\n",
              "      <td>...</td>\n",
              "      <td>...</td>\n",
              "      <td>...</td>\n",
              "      <td>...</td>\n",
              "    </tr>\n",
              "    <tr>\n",
              "      <th>1495</th>\n",
              "      <td>27.7</td>\n",
              "      <td>20.40</td>\n",
              "      <td>-0.82</td>\n",
              "      <td>5.50</td>\n",
              "      <td>8.25</td>\n",
              "      <td>392.58</td>\n",
              "      <td>-2.05</td>\n",
              "      <td>5</td>\n",
              "      <td>6.63</td>\n",
              "      <td>124.56</td>\n",
              "      <td>4.58</td>\n",
              "      <td>19.50</td>\n",
              "      <td>10</td>\n",
              "      <td>5.88</td>\n",
              "      <td>10.853013</td>\n",
              "      <td>False</td>\n",
              "    </tr>\n",
              "    <tr>\n",
              "      <th>1496</th>\n",
              "      <td>17.7</td>\n",
              "      <td>32.70</td>\n",
              "      <td>7.16</td>\n",
              "      <td>3.04</td>\n",
              "      <td>11.04</td>\n",
              "      <td>92.58</td>\n",
              "      <td>-1.71</td>\n",
              "      <td>170</td>\n",
              "      <td>3.74</td>\n",
              "      <td>414.56</td>\n",
              "      <td>1.02</td>\n",
              "      <td>16.50</td>\n",
              "      <td>10</td>\n",
              "      <td>9.33</td>\n",
              "      <td>10.853013</td>\n",
              "      <td>False</td>\n",
              "    </tr>\n",
              "    <tr>\n",
              "      <th>1497</th>\n",
              "      <td>15.7</td>\n",
              "      <td>0.45</td>\n",
              "      <td>-2.90</td>\n",
              "      <td>16.96</td>\n",
              "      <td>21.33</td>\n",
              "      <td>128.58</td>\n",
              "      <td>1.84</td>\n",
              "      <td>58</td>\n",
              "      <td>9.74</td>\n",
              "      <td>112.56</td>\n",
              "      <td>-2.84</td>\n",
              "      <td>2.07</td>\n",
              "      <td>1</td>\n",
              "      <td>2.18</td>\n",
              "      <td>11.820000</td>\n",
              "      <td>False</td>\n",
              "    </tr>\n",
              "    <tr>\n",
              "      <th>1498</th>\n",
              "      <td>7.7</td>\n",
              "      <td>1.74</td>\n",
              "      <td>1.60</td>\n",
              "      <td>11.24</td>\n",
              "      <td>21.39</td>\n",
              "      <td>119.58</td>\n",
              "      <td>-0.32</td>\n",
              "      <td>18</td>\n",
              "      <td>7.41</td>\n",
              "      <td>90.56</td>\n",
              "      <td>-3.10</td>\n",
              "      <td>2.67</td>\n",
              "      <td>1</td>\n",
              "      <td>1.88</td>\n",
              "      <td>10.853013</td>\n",
              "      <td>False</td>\n",
              "    </tr>\n",
              "    <tr>\n",
              "      <th>1499</th>\n",
              "      <td>17.7</td>\n",
              "      <td>46.05</td>\n",
              "      <td>8.66</td>\n",
              "      <td>3.32</td>\n",
              "      <td>11.19</td>\n",
              "      <td>-117.42</td>\n",
              "      <td>0.58</td>\n",
              "      <td>140</td>\n",
              "      <td>6.22</td>\n",
              "      <td>274.56</td>\n",
              "      <td>3.90</td>\n",
              "      <td>23.70</td>\n",
              "      <td>10</td>\n",
              "      <td>6.33</td>\n",
              "      <td>9.900000</td>\n",
              "      <td>False</td>\n",
              "    </tr>\n",
              "  </tbody>\n",
              "</table>\n",
              "<p>1500 rows × 16 columns</p>\n",
              "</div>\n",
              "      <button class=\"colab-df-convert\" onclick=\"convertToInteractive('df-ff696ce1-1f5b-4056-ab84-9c4b4b6d0257')\"\n",
              "              title=\"Convert this dataframe to an interactive table.\"\n",
              "              style=\"display:none;\">\n",
              "        \n",
              "  <svg xmlns=\"http://www.w3.org/2000/svg\" height=\"24px\"viewBox=\"0 0 24 24\"\n",
              "       width=\"24px\">\n",
              "    <path d=\"M0 0h24v24H0V0z\" fill=\"none\"/>\n",
              "    <path d=\"M18.56 5.44l.94 2.06.94-2.06 2.06-.94-2.06-.94-.94-2.06-.94 2.06-2.06.94zm-11 1L8.5 8.5l.94-2.06 2.06-.94-2.06-.94L8.5 2.5l-.94 2.06-2.06.94zm10 10l.94 2.06.94-2.06 2.06-.94-2.06-.94-.94-2.06-.94 2.06-2.06.94z\"/><path d=\"M17.41 7.96l-1.37-1.37c-.4-.4-.92-.59-1.43-.59-.52 0-1.04.2-1.43.59L10.3 9.45l-7.72 7.72c-.78.78-.78 2.05 0 2.83L4 21.41c.39.39.9.59 1.41.59.51 0 1.02-.2 1.41-.59l7.78-7.78 2.81-2.81c.8-.78.8-2.07 0-2.86zM5.41 20L4 18.59l7.72-7.72 1.47 1.35L5.41 20z\"/>\n",
              "  </svg>\n",
              "      </button>\n",
              "      \n",
              "  <style>\n",
              "    .colab-df-container {\n",
              "      display:flex;\n",
              "      flex-wrap:wrap;\n",
              "      gap: 12px;\n",
              "    }\n",
              "\n",
              "    .colab-df-convert {\n",
              "      background-color: #E8F0FE;\n",
              "      border: none;\n",
              "      border-radius: 50%;\n",
              "      cursor: pointer;\n",
              "      display: none;\n",
              "      fill: #1967D2;\n",
              "      height: 32px;\n",
              "      padding: 0 0 0 0;\n",
              "      width: 32px;\n",
              "    }\n",
              "\n",
              "    .colab-df-convert:hover {\n",
              "      background-color: #E2EBFA;\n",
              "      box-shadow: 0px 1px 2px rgba(60, 64, 67, 0.3), 0px 1px 3px 1px rgba(60, 64, 67, 0.15);\n",
              "      fill: #174EA6;\n",
              "    }\n",
              "\n",
              "    [theme=dark] .colab-df-convert {\n",
              "      background-color: #3B4455;\n",
              "      fill: #D2E3FC;\n",
              "    }\n",
              "\n",
              "    [theme=dark] .colab-df-convert:hover {\n",
              "      background-color: #434B5C;\n",
              "      box-shadow: 0px 1px 3px 1px rgba(0, 0, 0, 0.15);\n",
              "      filter: drop-shadow(0px 1px 2px rgba(0, 0, 0, 0.3));\n",
              "      fill: #FFFFFF;\n",
              "    }\n",
              "  </style>\n",
              "\n",
              "      <script>\n",
              "        const buttonEl =\n",
              "          document.querySelector('#df-ff696ce1-1f5b-4056-ab84-9c4b4b6d0257 button.colab-df-convert');\n",
              "        buttonEl.style.display =\n",
              "          google.colab.kernel.accessAllowed ? 'block' : 'none';\n",
              "\n",
              "        async function convertToInteractive(key) {\n",
              "          const element = document.querySelector('#df-ff696ce1-1f5b-4056-ab84-9c4b4b6d0257');\n",
              "          const dataTable =\n",
              "            await google.colab.kernel.invokeFunction('convertToInteractive',\n",
              "                                                     [key], {});\n",
              "          if (!dataTable) return;\n",
              "\n",
              "          const docLinkHtml = 'Like what you see? Visit the ' +\n",
              "            '<a target=\"_blank\" href=https://colab.research.google.com/notebooks/data_table.ipynb>data table notebook</a>'\n",
              "            + ' to learn more about interactive tables.';\n",
              "          element.innerHTML = '';\n",
              "          dataTable['output_type'] = 'display_data';\n",
              "          await google.colab.output.renderOutput(dataTable, element);\n",
              "          const docLink = document.createElement('div');\n",
              "          docLink.innerHTML = docLinkHtml;\n",
              "          element.appendChild(docLink);\n",
              "        }\n",
              "      </script>\n",
              "    </div>\n",
              "  </div>\n",
              "  "
            ]
          },
          "metadata": {},
          "execution_count": 63
        }
      ]
    },
    {
      "cell_type": "code",
      "source": [
        "from google.colab import files\n",
        "df_test.to_csv('CE802_P2_Test.csv') \n",
        "files.download('CE802_P2_Test.csv')"
      ],
      "metadata": {
        "id": "TV48cJ9WYj7o",
        "colab": {
          "base_uri": "https://localhost:8080/",
          "height": 17
        },
        "outputId": "0b111d38-fa12-44b4-8b52-2a41eeeeab8d"
      },
      "execution_count": 70,
      "outputs": [
        {
          "output_type": "display_data",
          "data": {
            "text/plain": [
              "<IPython.core.display.Javascript object>"
            ],
            "application/javascript": [
              "\n",
              "    async function download(id, filename, size) {\n",
              "      if (!google.colab.kernel.accessAllowed) {\n",
              "        return;\n",
              "      }\n",
              "      const div = document.createElement('div');\n",
              "      const label = document.createElement('label');\n",
              "      label.textContent = `Downloading \"${filename}\": `;\n",
              "      div.appendChild(label);\n",
              "      const progress = document.createElement('progress');\n",
              "      progress.max = size;\n",
              "      div.appendChild(progress);\n",
              "      document.body.appendChild(div);\n",
              "\n",
              "      const buffers = [];\n",
              "      let downloaded = 0;\n",
              "\n",
              "      const channel = await google.colab.kernel.comms.open(id);\n",
              "      // Send a message to notify the kernel that we're ready.\n",
              "      channel.send({})\n",
              "\n",
              "      for await (const message of channel.messages) {\n",
              "        // Send a message to notify the kernel that we're ready.\n",
              "        channel.send({})\n",
              "        if (message.buffers) {\n",
              "          for (const buffer of message.buffers) {\n",
              "            buffers.push(buffer);\n",
              "            downloaded += buffer.byteLength;\n",
              "            progress.value = downloaded;\n",
              "          }\n",
              "        }\n",
              "      }\n",
              "      const blob = new Blob(buffers, {type: 'application/binary'});\n",
              "      const a = document.createElement('a');\n",
              "      a.href = window.URL.createObjectURL(blob);\n",
              "      a.download = filename;\n",
              "      div.appendChild(a);\n",
              "      a.click();\n",
              "      div.remove();\n",
              "    }\n",
              "  "
            ]
          },
          "metadata": {}
        },
        {
          "output_type": "display_data",
          "data": {
            "text/plain": [
              "<IPython.core.display.Javascript object>"
            ],
            "application/javascript": [
              "download(\"download_a3612f67-ff52-4e79-acfb-a8bbdb79bbab\", \"CE802_P2_Test.csv\", 140758)"
            ]
          },
          "metadata": {}
        }
      ]
    }
  ],
  "metadata": {
    "colab": {
      "collapsed_sections": [],
      "name": "CE_802_P2_Notebook.ipynb",
      "provenance": []
    },
    "kernelspec": {
      "display_name": "Python 3",
      "name": "python3"
    },
    "language_info": {
      "name": "python"
    }
  },
  "nbformat": 4,
  "nbformat_minor": 0
}